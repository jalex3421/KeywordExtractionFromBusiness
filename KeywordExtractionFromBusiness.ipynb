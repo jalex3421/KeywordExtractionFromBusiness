{
  "nbformat": 4,
  "nbformat_minor": 0,
  "metadata": {
    "colab": {
      "name": "KeywordExtractionFromBusiness.ipynb",
      "provenance": []
    },
    "kernelspec": {
      "name": "python3",
      "display_name": "Python 3"
    },
    "language_info": {
      "name": "python"
    }
  },
  "cells": [
    {
      "cell_type": "markdown",
      "source": [
        "# KEYWORDS EXTRACTION WITH DIFFERENT TECHNIQUES"
      ],
      "metadata": {
        "id": "XgICSUFpmDZ0"
      }
    },
    {
      "cell_type": "markdown",
      "source": [
        "The aim of this work is to try three different classical techniques in order to extract keywords. After that, we are going to use a BERT approach and compare the results that were obtained."
      ],
      "metadata": {
        "id": "k7jRmCmVmgwu"
      }
    },
    {
      "cell_type": "markdown",
      "source": [
        "![Captura de pantalla (511).png](data:image/png;base64,iVBORw0KGgoAAAANSUhEUgAAAnYAAAILCAYAAABl6NHmAAAAAXNSR0IArs4c6QAAAARnQU1BAACxjwv8YQUAAAAJcEhZcwAADsMAAA7DAcdvqGQAAAAhdEVYdENyZWF0aW9uIFRpbWUAMjAyMjowNzoxNyAxMzowMTowMPlgsGEAAET3SURBVHhe7d0JnBTlnf/xZwSV4RAFLw4RGDwTIyqgohhhw0CMRzaiosYVj/VAE03wjESj8QIlRlfxWNdgsgIqeGT/kSsrRo4okg2KiRcDiAgxcl+DOjj//j5dv6Gm6WHO7ul+5vN+vYquqq6ui+mnv/U8dRSUl5eVOwAAAOS9XaJXAAAA5DmCHQAAQCAIdgAAAIEg2AEAAASCYAcAABAIgh0AAEAguN0JgIzZtm2bW7dunWvVqpUrLS11LVq0cGVl29zXX3/tdtttV7d161bXsmVLt2HDBrfnnnv619Rpy8vLXWFhC/fVV1/5cZs3b3Fbtmx27777N/f555+7pUs/TnRL3ccff+zWr1+f6Da4jRs3+uVqPvq85qn567V9+3Zujz32cAceeKDr2vVA16lTJ1dUVOT23Xdf1717t8T8NyeWV+jXZbfddqtYh113be6++OKLatd327Yyt/vuu1dsm9Zjv/32i/YIAGQWwQ5AxqxevdqHGwWiXXfd1QefXXbZJdEV+P54WLJApWELVLvvvpsrKChwy5Z9kuiWuZkzX3Nz5szxw6tWrfLBSqGrPrQ+Cnr77LOP69atqzvhhBNc377Hu8MOO8yHQL1fVlaWCJZlrnnzZu7LL7/067lly5Yd1lfbpfVN3TYFPQDIBoIdgIxRrZVqsyz4KBh9/XW5D2PNmikwbQ9AqvHS9ApLouA0d+6f3YsvvuRmz57jPvzwQz8+Ww4//HB34oknuDPOON0df/xxrk2bNn79FPS0vlpPDWvbFPYUXLVd27Z97bdT26ZaSW1/u3btorkCQGYR7ABkzNq1a31tldV2JWu1KtfY6T0FIL22bt3KrVz5D/fCCy+6cePGuXfeWZiYriyaW+NQYDvmmKPdRRcNc6eeeqqvxRMFT22bhToFOm2XKLwquFrzsToAyAaCHYCMUW2VNVUquCnsqOVUNVsKQQpDCnei9ydOnOh+/euH3Pvvv+/H5RI1sX7jG99wP/rRVe6ss4YkQmhr33xsTczx2sj4tmn799prr2guAJBZBDsAGbNhw0YfiBR29GrUq4CnV9V6/fWvC9zIkT93M2b8MZoid2k7Bg0qdqNG3esOP/ywRHjdGr1TWXwbFQIBIBu43QmAjFKwib/GqYny+ecnue9//wd5EepEIXXq1Gnue987zU2ZMtXpil1tW7rtA4BsI9gByBg1vdr5ZlZ7pU79Oq/u6ad/6664YrhbuXJl9In8sXz5cnfBBRf68wHVHBunbdR261VNsgCQLTTFAsgY3cPNzkGzkKemzBYtdnf/+7+vunPPPd9Pk8/23ntv99JLL7hevY5xX375VUWo0/balbF2pS8AZBo1dgAyxm7aq4sIVHOlsKOLDD7/fJW7445f5n2oE91P76abbvY3RY7XUOqKWLsJMwBkC8EOQMZs2rTJ32Q4eUuQ5lHNXTM3c+ZM9+c/vxFNlf90n71XXpniayftti729AkunACQTQQ7ABnTtm1bf8uT7fd7a+70OLHnnns+miIc06fPSAS65BMqtJ12s2U95gwAsoVgByBjFGrsiRL29An1/+1vf4+mCMdbb813ejauQp1CrMKsbmKsx5UBQLYQ7ABkjEKNgpxCjmqyks2UZf6mvaFRTaRqJ5PnFO7qw51q7HTuHQBkC8EOQMboIf2qsVOQs3PsVKul8+xCo+3S49LsHDvVUCro6RmzAJAtBDsAGROvsbNz7BTqFIJCY9tljxJTDWXLli2psQOQVQQ7ABmjc8zsObF2Pzs1WapmKzS2XXb/OtXcffHFlz7cAUC2EOwAZIzCnN2/Tvd308Px7dmxobHtSga8Ar/dCne6aTEAZAvBDkDG2JMm9CoKPrvttnuQ59hpm7RtyqzqFO7sZsUAkC2UOAAySo/YUrgzehrD4YcfFg2F48gjv+UflWYCrJQEkAcIdgAyRrVVapJU7ZVq6xTwmjdv7s444/RoinB873unVDTH2vbqVbd3AYBsIdgByJjkjYmTF01YyFPQOf3009zRRx8VTZX/jjvuWDdgwIDE9iW30y6esHvZAUC2EOwAZEyrVq18uLN72Fno2Wuvvdydd/4yiOeo7rnnnu7WW3/uOnbs4LctHup0Dz89LxcAsoVgByBjNm/e7MONQo7duFdNlKrZ+va3T3Jjxtzn73GXrxRc779/tBs48DuJbd3ix9l26jYvCrUhhFcA+YNgByBjFGq2P1LsK19z98UXW/04nY92wQU/dE888Zhr37599In8se+++7pHH33EXXTRMLdlS6n7+uttrrR0i29u1nbySDEAjYFgByBj1q1b52/Quz3clfn7ui1c+K6vtVO4O+usIe4Pf/gfd/zxx0Wfyn39+5/snn12gjv//PPc+vXr/dWwb7/9jr+HnYU6ba9u0KymWgDIFoIdgIzRuXTWHKvnxepCCnnuuef9q9XcHX744W7KlFfc3Xff5Q488ED/Xi466KCD3AMPjHG/+91v3Ukn9fOhTsFV59FpmxRc1VkzrN5bu3Zt9GkAyDyCHYCMUTOkmiMV6uyRYrqAYsaMP7qXXnrZtW3b1gcg1XLJjTde76ZOTQa8gw8+ODFt49/IWLdnOeyww/y5dH/843R3xRWXu733bu9DnWrlFEwnT37Bb5Nq7nSOnYW70tJS16ZNm2hOAJB5BeXlZdxGE0BGKLQlg1sy1CnAqQbvyCOP9s2WL730gr9ViJpsFZIUAFXLpfdUCzZ16jT3hz+84v70p9fdypUro7lmR6dOndx3vvMvrrh4oH/VeYBWw6j1VGDVs2Fnz57jzj57qNtjjz3cm2/OTYQ7jdf965Lbq2lVcwkA2UCwA5AxCmwW6lSTpUds6QKD3r2Pc8uWLXNdunRx//mfj/urSjdt2lwRiGxa1YApGK1YsdK99957PugtXLgw8dlP3Oeff+6DVkNQSNtvv/1chw77u759+/rz/Y455hhfM2cXfmi9tH66OELrpYA3ZcpUN3z41Yn1W+G6d+/ug53mpWns1i5qftY4AMgGgh2AjNHFAwo3CjkKagpGGnfMMX3cJ5984qdRc+zPfnaTv7pU/bqBcfwzopovBSk1b27cuMn94x//cIsWLYpeS9zHH3/sg96nn67wr7qliugCDdWqaVhNqnrt0KGD23fffdw+++zjevTokQiXB7iioqJEiNvbHXzwQX56q5UTW4fEKE8hTct45JFH3YMPPlRx1avmNXfurIoQp89ZuGvbdg8/DgAyjWAHIGPUnKqMpVBkr6r96tnzGF9jF9enT2939dVXudNPP921bFmYCEZf+ytoFcYUtCxYiUKazr9TCEvWpiUf25UMhcmutDRZm6d+XbyhcKjat112SX5O81NtouajZWg6BcH4+kp8Op1Xp1rD0aPvd++8805ygojC4VtvveGnFZuPAt4ee3CeHYDsINgByBhrirXnxVot1r/8y0D35pvzoqm207RHHPFNd9FFF7mTT/6269atqw9lqj1TuLOaPF2cYDcCtmZbhShNo5Cm4KZgqACowKZQZp/Vuti09jmN03zsNXnbkl39fHTrksWLl/hz/Z577rlEoFuYmG5btMbbaX2nTPmDX168tk6BUucNAkA2EOwAZIyaXS2EWbhTc+qoUfe5W2+9LZoqPTWZ9u7dyz+h4uSTT/aP7NIFCgpbdjuRZPD6ys9XYUosUGmZqs3TtPEgqPfj04qmUZjTq2rlFA7//vf33Jw5c9ysWbN9CFXz687ce+/d7tprr0mE0C93WAfuZQcgWwh2ADJG93BLPlLsq4pwt/vuu7mPPlrkBg4c5M+Rqwk1oXbr1s0dffRR7qijevrQp6ZPBabOnTtV1K6pFk61aaqhU6DSshUA9XnVvGk6jdf7mnbDhg2JdVznli5d6tasWePee+999/7777u//OX//Dh9piZ0Be3/+3+/d4cddqivsYuHOq2DOgDIBoIdgIxRMNLtTZJXliZrzVQbpibS//iPh90NN9wUTVk7Cma6P5wuttBjy3SVaufOnf0FEBrW/NX8qZCnfq2HauR0XznVIq5atcotX77cn4en8wBVS6fXdE2sNTF69L3upz/9SWLeerRYsjlXoU7breXl4yPTAOQngh2AjFHzpZpPFW5Ua6Vwp5oynXemkHX99Te6//qvp6Kp89Pll1/mHnzwAR/kxM7L0/Zqu7X9CpcAkA08eQJAxqip1EKdLoBQTVZZ2VeJ4POVr1G7++473aWXXhJNnV8UUPUUijFj7vPn1Ym2Uc2wdg6gtlEXkABAthDsAGSMzmHTfd0UeBR2FHrU/KlmUIUhBb9Ro+7xXT49nUFNq1pnPTdW5w2qBnLp0o99rV2yGXb7I8VUYwcA2UKwA5AxOt9N4UYhx86x0zloek6szotTbV6rVq38/eumTZviBg8eFH0yN6mW7rTTTnUvvjjZXX/9dT6c2ja9/PLvfXC1W6ZYc6zdwBgAsoFgByBjdOGEwo1Cjmq1krc82SURgl52Cxa87WuzFPw07vDDD3OTJj3nnnnmd/4WJwqDuULroufFTp78vHvqqSfdCSf09VfR6nFhWvf58//it0nbqFudaDv1GdVUKtwCQLZw8QSAjNF5Zuqsxk7BR2HviCN6+sd3PfvsRP88Vl2RmgyAXyWCUCt/mxTdcmTSpMlu2rTp/lmsdb1ita505e0BBxzgiosHuiFDzvTPj7WLIBRGk8+E3eZvl3L22ef4x5nNn/9mYjsKE2EveTNlBT9tfz41MwPIbwQ7ABmzfv0GX4OlGwIr7OgxW6WlW1zv3sf5R4opND311H+5/fffLxH4tvhpNK2aMhWsVBu2YsVKN3PmTF8rNnv2HPfee+/5GsBM0O1JvvWtIxLr19v173+yO+644/xzZdUEq9o3sadK6J54CnP//u+Xuf/931dd9+7d3Ztvzo0CX+Unbai5GQCygWAHIGP0wP64RD7y59X16nWs++STT/y4Y4/t4x544Ff+KRO6+EA1XXEKSApcuvGv7jenMPXBBx/4Gr2PPvrIffbZZ27VqtX+XDZ1qk3bGYUsNY+qU2jThRBHHHGEO/TQQxLr1cvXrrVrt5cPlQqQuu+eAqlJNrc2S4TN19wtt4z0gVN0w+Q33pjjax6Nfa5NG5pjAWQHwQ5AxqiJVbVWqvEShTQ1TR51VK+KYCcKV5dccrEbNuzCREDqnvjM1z7I6bOiz2sWClSiV3UKXbry9rPP/ukDnZancKdlKJRZTZtuO6JpdUNj1ahZsFMzsF21qmZVTaNlJ18rF40KdAp7uvr1179+0E2c+KxvMjYKdqqxUwhVoNM8rJaSYAcgWwh2ADImXVOsAtqxx/Z1f//736OpttM5bWedNcT98Ifn+xo0ndOmoKWaPIU0m4+aOu0iBTXb6j2FLnXWr6CmV30+/qrAqNAl28Pc9of2J69yTTYHa3qbly72eOGFF90zz4z35/ylOvLII92cOa/7fppiATQWgh2AjEm9eEJhSWHtmmt+4h5//Iloqh2pZu3EE09wp5zyXX++2yGHHOJattRFCbv4c/H0vFndD08XJ9hzaBWiFNLUbxdqqLZONXSp66DgpWk1jfo1H926RMtQ8FOt2z/+8Zm/395bb73lXnzxpcTrfN8UXJVrr73G3XPPXX59FOYURrVMLbtdu3bRVACQWQQ7ABmjZ7KqyTMerAoLW7hZs2YnQtupNboIQs20hxxysD8PrmfPI93xxx/va8DUjKqaNIVAq40TBTM102reaoLVVbh2k2QFNgUuva/pNY3msWHDRh/G3n//A3/e3htvvOlrFN977/0aPTlC89e97QYM6O/nGb8iVtuvCy0AIBsIdgAyRiHH7mWnYKVwp5oyBZ+rr/6R++//fiaasuYUyPSwf52L16VLF9epUye3zz77uD32aOMvfGjTpo1vjlWo0zIVrHQenmoKdQ6egp8C5+rVa/z5eEuWLHErV650H3zwob83nUJibV188UVu7NiHfWhUDaDVFmq7tf1aXwDIBoIdgIxZvXq1r12L19gpmKkpdfHiJe7cc893CxYsiKauP9XEqXbMauQU8ERhTZ1q5xTs9NpQdFXv888/59q3b+dDnc6tU3C1cKft17YDQDYQ7ABkTLoaO4W7ZI1aoXv77XfcJZf8e+L17egT+aVXr2Pc+PHPuE6dOvqayORFHrrHXXO/7dpu1RJSYwcgW3ikGICM0cUGahJVjV3yXnTb/H3sFPZ0EcTRRx/lfve7p/1FEvlGz4ydPHmS69ixgw+q69at92EueUHHl357ta177rln9AkAyDyCHYCM0YUNCjequdLVoqrJUs3WjBkzfI2dgt9hhx3qnnzyP92oUfe4Dh06RJ/MXboli9Z1/Pj/rriRsbZp2rRpfhuTF04knxOrULuzK2kBoKER7ABkjEKdaq7sliQKPTrX7bnnnncrV/7DX02qmjudn3bNNT9OhKMp/kKEXLzvm0LqFVdc7l5++UV3ww3XJ7ZD99RLhjo99kz3uNO5fXY/PJ3rl7yFSstoDgCQeZxjByBjFOzs3nF2QYGaYb/5zSPd2Wef5X71q/sT48sqavNEV6/q3Lvx4ye4qVOn+ceHKTw1BgW3Qw891J166vf8TZO7d+/mA5u2S68Kd7oQ5Mc/vta98soUN3/+m4mw2tLpmg1dSKHtVrOsrtYFgGwg2AHImHRPnigt3f6s2F/+8g533XU/9dOqdsumVVgSPSrsL3/5i68NmzfvLX/DYIWqTNLtUtQk3L//yW7QoGL//FidR6eAlryyNvnUC9G5dffdN8b94he3u27duiXW8c++FtKujtW2aFqePAEgWwh2ADJGV4TGK9sUdlRjZ8FOwehHP7ra3Xbbz/0zW3WRhU2vWi/VmKkGL3lxwjq3cOG7bv78+f6ecwsXLnSLFpX4e9Hp9iW1rdXTPNV0qiZW3QBZT7fQVa4HH3ywv6hDAU/zTN4iZZtfHy1Cr2peXrVqtbv77nvcww8/4uenZ8W+8cYcfz6h2LR65VmxALKFYAcgY6wp1mri9KqH9R91VC9f+2b69j3e3X77L9zxxx/nQ5MCnigUKVwpEIpCk4Z1WxG7slY3G9bTIv75z8/9Q/k///xzHwK1HDWXqqZNrwqI++23nw+QepqFauG6du3q9t13X38hh+atmjWrmUvecy9ZyyhqVrVz6v7wh1fc/feP8U+oMKnBzrZXobBt2z38OADINIIdgIxR0FJQs/Ps1ESpYHTMMb1dSUlJNFWSmjB125NLLrnYBzyFLJ1/p5Bl5+dpPvZ8WDXX6n1dgapp7KbEolcbp2kU6lTzpmGFQtF66D3V3Gm+mn/8XnsatvPkNE5PpfjrXxe4Bx98yM2c+ZoPjnGq6Zs/f54Pg/Hz67T92jYAyAaCHYCMUc2bApCCkcKZwo7C1Xnn/dA/WD8dhTAFux/84F/dgAEDfK2ani+rIKYQppo6hSWFMNXEKajZhQwKc1qGBUFNoxq0+LSav2rhND+rUbNpdQWrAqA+o/XW8vT82GnTprspU6a4OXPm+mWkM3ToOe6pp570oVProGVpu7UP2rVrF00FAJlFsAOQMarlUm2VBSuFKIU03e7kggsujKZKT6FK578dccQ3fcDr3buX23///f35cApnCk2qEVO/Xq22zmroVOvWooVuElzqXxW4VNtn4U7TK8Ql10vTtvC3YNE6v//++27BgrfdzJkz/Xl9Oo9PQXBnfvvbce6cc87287cQq/XS9lvzLABkGsEOQMYo5OgCCqs1UxiTtWvXubPOOtv9+c9v+OGaUBjTw/47d+7kH/yvps9u3bomhju7jh07+to2zV/LSta67e7PwdOFC5s26bFmyZCnwKhaNJ2Hp04XYOhCjvfeey8R7Fa6Tz9d4T777LMqa+bS6dfvRPfSSy/4mkSrAVSo07rwSDEA2USwA5AxupBBFyvoIgoLd82aNfcXK8yY8UffJKvz8BqCQpWaPHU1q2rJdK6b1eKptk3nvWk9NmzY4Jep4NUQdCHG73//kjvqqJ4+1Gm5CrRaHy1PjxRT8zMAZAPBDkDGKDzpnLh4jZ1dQKFw99vf/s5de+1PfVNnPlJoe/zxR/0NjEXbppo+auwANBYeKQYgYxTYLNQlL17QVajOX7SgZtJhwy50jz02Ni+eEZtKz4zVeXWnn36aH1ZtnbYteeFE8mpdXYChGkQAyBaCHYCM0S1LrKbOLijQNQh2O5CNGzf5q0knT37eFRcPjD6V23SO3uDBg9yUKX9wAwd+x9fQKcilbpvV2KnGEgCyhaZYABmT7qpYnfem89DiFxmoVmv16tXupZdedr/+9UP+QoZco0D3jW98w/3oR1f558YqwKnmUetvwVXbpeni26bt1/l2AJANBDsAGWNPnlANlgUh3W9O7Ea+di853XBYoWjNmrVu8uQX3G9+8xv3zjsLE++V+ekbiwLpMccc7ZuNTznlFNepU0d/la22ybZN66/tEHviRLzmTufiAUA2EOwAZIyaWtPRuWjx28LFhxWKVAO2fv169+ab8/yNjF9/fZb78MMPkxNkiWrnjjvuWHfmmT9wffv29fffU8hUYEtH2yDx7TI8KxZAthDsAGTMhg0bfc2cwk48vFm/vVrtnV5V46VXUcBTLd7y5Z+6RYsWublz/+xee+01P6xbqejWJdXdOLg6ahrWjZB1q5QePYrcscce6/r3P9l169bN7b//fn75un2J1iu+3rae9ppu26z2TucaAkA2EOwAZIyuCtUTH3S+mTVXKogp+CgM2bloatK0V2u2jYclvaeApZsUq9ZMD/xfsmSJW7ZsmVuxYoUrKVns+5P3qFvnbzGimw+rKVgUrNQc2rp168RrW9/fpUsX17Xrgf6RZbrhsQU5zV/3ndN5gaJwJhbUrAk2vt62bTat1p2mWACNgWAHAAAQCG53AgAAEAiCHQAAQCAIdgAAAIEg2AFoMsZNWxn1AUCYCHYAmoynp38W9QFAmAh2AAAAgSDYAQAABIJgBwAAEAiCHQAAQCAIdgAAAIEg2AEAAASCYAcAABAIgh0AAEAgCHYAAACBINgBAAAEgmAHAAAQCIIdAABAIAh2AAAAgSDYAQhayaelbta7630n1q/xABCagvLysvKoHwCCoxB362+WREPb3TD0APfd3u2jIQAIAzV2AILW75ttXVGnwmgoScOEOgAhItgBCN6FxftHfUln9ts76gOAsBDsAAQvXmtHbR2AkBHsADQJVmtHbR2AkBHsADQJqrUb1LsdtXUAgsZVsUCA+o9YEPUB9TNzTM+oD0A+INgBAVKw4wcZ9cXfEZB/aIoFAAAIBMEOAAAgEAQ7AACAQBDsAAAAAkGwAwAACATBDgAAIBAEOwD1Nnv2HFdQ0LyiGz786uid2tFnFy9eEg2FSfuqR49DoiEAaFgEOwANYtCgYldeXua76dNn+ABTW/ps9+7doqHGNXr0fb5rCIMHn1KxP0488QS3aNEHvh8AGhrBDkCDKy4e6JYvX+7747V5CjiiGqt48NN7ovFWYzdx4rMVn7MawPj7Cl3xmkGrBdM4+1y6cKnp7H3NS536jfpvuuln7sYbb/advad1t3lr3eLLsWVLfL01Xp+bNm2669fv275fy4tPH5+PbY/WW/22rrbfAKA6BDsADe7RRx9zffr08f3Dhl1cUZM3YEB/H3wuu+xSN3fuXP++Qoxq++IUfsaNe7ric6LpFBjnzZvnh5cu/Tgx3WLfb+/pc6ottM+pdixOYWncuKf8eyUlHyWGr/I1hKNG3ePfU1hU/7333u1f1dnyjYaHDj3HjR37cMVytGxtl5x77vl+3hqvmrmpU1/x2zdr1p98f5w+o22w+WjdbT7ah7auixaVpA2pAJCKYAegQahWymqeFGIUmBRGSkpKKsarBuz112e5IUOGuCeeeNJ/bvz4CYnwd6HvNwpv8fkp5CgInnfeuT7wme7du/swp3mcdFK/imbcqmq4FJxUc6Z5FhUd5JchN9xwvV+G1kn9VdHyjbYtvn42TiGups3J2hfxbVfgXbZsme/XfCyYxmtAAWBnCHYAGoSdYzdhwjPuzjvvisZWPvdOnWq6LPgolCkUqQYs1ZVXXlHpcwpcCjoKYwpQXbse6MOcQqACm9UQqpZs5MhbfOBKV8tltWnWxSmE1pRqIhVgNQ+tKwDkAoIdgAalkGZNhx07dvRBTAEulWqn1BSaLhR17ty5ohYslYKigmPfvn19mFMNXo8eRZVqyRQA1Yxqzb1G002aNCka2k7NsAqk1iRbU9o+UbCUnW1vOgqn8RpI1RhquwCgrgoSR5vlUT+aqJVrvnSvvbPW9Tloj2jMjjaWbov6qrZxa/XTbCqtXEOSzubSr6O+natuXpu31mw+Ndm2LTXZ/gbaR1LttlWzjzYl1mXISfu4q87oFI3JLIU4hS07h0zniSmwaFj9Ou/MKEAp/Cn8qDnUhkUXC0yfPtWHNJ3vpqZbo9oxBTabn9W2qWZOgUw1eloPNbWa1Bo50fRGIVG1e6p9sytV9b6WpZCm9RPNR827mtaaR+PbVVRUlNj+O/x2xNdb4zVfm1bLGzv2EVdcPLhieXZxhcS3I74/FTZVO5muZjOT+o9YEPUhF11YvL8bNmj/aAhIItjBlXxa6n72m8WuTcvtP3ip2rRoFvVVrU1h9dO0rME0NZmPtGqx8wrn1oVVb09cq8LqK65rMq+G2kdS3X6qbj6njVzo/ufOIxLrXbPlAeko2M0c0zMaQq4ZN21lIth1iIaAJIIdfLC759ll7smfctPUUPCDjIbA31Fu4/8H6XCOHXwTYk1qmwAAQG4j2AEAAASCYAcAABAIgh0AAEAgCHbwt+Co6dWaAAAgdxHsAAAAAsHtTuBmvbvezXhrjbvjopo93xK5jxvLoqFwO43cxe1OkA7BDm7KW6vd2yWb3U1Du0RjAAC5jmCHdGiKBQAACATBDgAAIBAEOwAAgEAQ7OA2l37N7U4AAAgAwQ4AACAQBDsAAIBAEOwAAAACQbCD21Ra5lq14E8BAIB8x685AABAIAh2AAAAgSDYwW3e+rVrXdg8GgIAAPmKYAcAABAIgh0AAEAgCHZwG0u3uVaF/CkAAJDv+DUHAAAIBMEOAAAgEAQ7AACAQBDs4LaUbuN2JwAABIBgBwAAEAiCHQAAQCAIdgAAAIEg2MHfx65Ni2bREAAAyFcEOwAAgEAQ7AAAAAJBsIPbuHWba1NIUywAAPmOYAcAABAIgh0AAEAgCHZwm0rLXEuaYgEg5816d7175OVPfSfWr/GAFJSXl5VH/WhCVAjc+psl0VBS60S4O+Gbbd1NQ7tEYwAAuWRT6TZ32siF0dB2D1zZw/Xs0ToaQlNGjV0T1S8R4PZrt2s0tN1Z/faJ+gAAuUYH4IN6t4uGklSeE+pgCHZN2IXF+0d9SYMThUVRp8JoCACQi64+o1PUl/QDDsgRQ7Brwr7bu31FrZ2OAikcACD3xWvtqK1DKs6xa+KmvLXajZ74ibuweD83bFCHaCyAmug/YkHUBzSS8sRPeEFBNIAQzRzTM+qrmXoFOwo1AI2ptgVeQ1MZ2NjrgKZLF8Gpxg7hqksZU+9gR6GW/3SVlar2gXySC+UPZSCATKpLGcM5diDUAQAQCIIdAABAIAh2AAAAgSDYAQAABIJgBwAAEAiCHQAAQCAIdgAAAIEg2AEAAASCYAcAABAIgh0AAEAgCHYAAACBINgBAAAEgmAHAAAQCIIdAABAIAh2AAAAgSDYAQAABIJgBwAAEAiCHQAAQCAIdgAAAIEoKC8vK4/6a63/iAVu5pie0RAAZE8ulD/5XgZq/QHsXGN+x+tSxhDsAOQlgl39UYYDO9fY35G6LJ+mWAAAgEAQ7AAAAAJBsAMAAAgEwQ4AACAQBDsAAIBAEOwAAAACQbADAAAIBMEOAAAgEAQ7AACAQBDsAAAAAkGwAwCgltq128cVFDSv1Gnc0KHnudmz50RTbZdueuv0GfP440+knaZHj0Pc8OFXu9WrV0dTOjd48Clpp03t0q0PwkWwAwCgltauXRv1badxzz77nOvX79s7hKl006ezfv36qK+ykpIS9+ijj/kwFw93QCqCHQAAdTRq1D2uvLzMd489NjYa69z48ROivsoGDSqumN66iRPHR+9WNmvWn/z7JSUfuSuvvMKPmz//L27SpMm+f+rUVyrmoWlNfJ3UnXjiCdE7aAoIdgAANIDLL78s6nNuzZo1UV/9de/ezV133YhoqOpaPUAIdgAANIDRo++L+pz7t3+7IOoDsotgBwBAHd14480VFymoX9Qke8op3/X9qaZNm17pwgZ11Vm8eIkbPvyqaMi5vn37Rn3Ajgh2AAA0oCuuGF6p9q6udBGGgl9R0UE+EMqECc9wzhx2imAHAEAdxS9UWLDg/1yvXsf48aq9U01bqnQXT9SULqAYOvScaAhIj2AHAEADOPLIb7nbb/9FNOTcjBkzor660ZWuq1Z9VnFFrG53ovvcATtDsAMAIEe1b9/e/fKXt7u99trLD9988y3cxw47RbADAKABqOn1ttu219gNHDgw6qsfhbubbrrB9+tGxzNm/NH3A+kQ7AAAqKP4VbG6yEE3EJaf/exmf/+5VOmuitXTJKpzySUXR33OjRx5a9QH7IhgBwBALVnTaJzGnXPO2f7cuLvu+mU0Nind9Om0bds26nOuY8eOUV+y1k5hUfR4sdRHlsWnjc8DTQ/BDgCAWlqz5vMdrm7VOD0eLN3tSNJNb50eDWb09Aobn1rjp7Bo76UuQ9Pae/EnYKDpIdgBAAAEgmAHAAAQCIIdAABAIAh2AAAAgSDYAQAABIJgBwAAEAiCHQAAQCAIdgAAAIEg2AEAAASCYAcAABAIgh0AAEAgCHYAAACBINgBAAAEgmAHAAAQCIIdAABAIAh2AAAAgSDYAQAABIJgBwAAEAiCHQAAQCAKysvLyqP+Wus/YoGbOaZnNAQA2ZML5U++l4FafwA715jf8bqUMQQ7AHmJYAcgdHUpY2iKBQAACATBDgAAIBAEOwAAgEAQ7AAAAAJBsAMAAAgEwQ4AACAQBDsAAIBAEOwAAAACQbADAAAIBMEOAAAgEAQ7AACAQBDsAAAAAkGwAwAACATBDgAAIBAEOwAAgEAQ7AAAAAJBsAMAAAgEwQ4AACAQBDsAAIBAEOwAAAACQbADAAAIBMEOAAAgEAQ7AACAQBDsAAAAAkGwAwAACATBDgAAIBAEOwAAgEAQ7AAAAAJBsAMAAAgEwQ4AACAQBDsAAIBAEOwAAAACQbADAAAIBMEOAAAgEAQ7AACAQBDsAAAAAkGwAwAACERBeXlZedRfa/1HLHAzx/SMhgAge3Kh/KnNOmjaVUvfjIYAoLKFky+P+rarSzlHsAOQl/I12O3d9dhoDOqCfZg97Ovs0b5uqGBHUywAAEAgGrXG7ogzH4/6ACC9dEexQo1d08Q+zB72dfY0ZI1dowc7/mgaBl/AzGL/No6qCjsh2DVN7MPsYV9nT1VlXV3KOZpiAQAAAkGwAwAACATBDgAAIBAEOwAAgEAQ7AAAAAJBsAMAAAgEwQ4AACAQBDsAAIBAEOwAAAACQbADAAAIBMEOAAAgEAQ7AACAQBDsAABAzrvmXzu7R358cDSUpHF6SL51L99xRPTOdjbNt7q3isaEjWAHAIHRj1/8x846STcuVXx86vRn9ts7ese53918WJXv5aud7bu6UqCIz0v7rS40n3TBpan7+8dbXP8RC3y3fNUXO+yjXoe28dOcc/K+0ZiwNYlgRyFXO6mFkHV3XdwtmqJuUv8f6rp/tB71XZdQ6G8udT+qUIvvZx2tptI0qUe+CMdVD33of+Remr2q0o+eseH4uJ2xaR9+abm7+vudK/3NaZy9P3nWqmhs/qpu39WUvntxGzZvqzSvdN9L1J/+/8T+Rq2W7tW/rnFd9mvh+0PXJIIdhVztvLN4c8U2qDC65pGPfP8tTy2JpqiZdNXm+j/QvLSf/m1gh2gsGpr9n+n1+yfuXelHRH+vOqo9/MCW0RigZlSmzf3bejfgqHbRmKZFB5R2wGQHlzq4su+XyjubRuLTxS37bKvbd69dfX/8QMzKS31H1W/vpavh0zJTa6aQpPKt897JEKdaOu1v/e3uUdi8STTH0hRbD021kIsXRPqSWA2fUf/tw7r5QKHwYNPF+S9Zq2a+XwWUzS8+bbyQVBcPJ0YFXrqCE0kK6QrTaoow+nvV0asKv/hBCZoO+07VJRj830cbK767ooNbm1/IP5r6ruzZeteKg17V/mh773t2mS/r1N957939AbDeF72mOyD+ZtfWfj/KGbcurJinPm/7UGXnb2es9OMVSOLfVfUPOGov/1nsnP6fnn3tn77/3aWbmkRzLMEugUKu5hS2rLBRbdD153Tx4UEB14KY+m8bt6RSDammiVNIU7CQB1/cXsupz1x+aic/XlQAarxq+FSQxWl5OhKrbU1iUzPz7bX+h8HoB0PBev77G5tszUtTZ983BQOVU/UpA+OtFKnf85AcfVCbigNVdQph/Y/cy2+zyrkHrzrIl41V0e+EffbVv67130GJH7zGf0tUPto08RooTaPWDkJd1fR/s3zV1oqwrf8b7d++32jrf1NCR7BLoJCrOX1JLLzqy6JhUbhSoacvzc6Clo5s9VmFtAvueS8auz1c6/04FYASr+ETfUHXbfqKUFdLOtLXj5AoUOv/DE2byql4GVgdBRydotEU6aDV9pU6fYfiLHylY+fYxQ9S9XujsszmV5P9qmkU9HRgix1ZC45+M1Q7l/p/JiFWusQR7FJQyFXPzt+Kf1FMPHylY+fYbSgtq3Rein359H5NaHoViDQlVk+1Ctrfohq6eK2DpGviBtKxIKKm/Kbmn2u/SlvbozJI5Z6dz1odBY54+We/H9q31ZWfRueN66C6KZZ/8fLLwm18nJpe7bc73uRtFIpDb44l2NVDUyzkVCCl+1LoC6ZQpsBVkyPJl2Z/XqlpVYWmHHxAzWuQuACjZvRjo2ZXUQEYD+X6P6vNPkfTZD+aqqVXgLEmwqZEtXMKBbYv1Ok3QGWQyjNrkrXyT/2aJt05wFb+6TM2T+3b2lQS/HzcYt96EnrtU1z8tB11Crip4+ItQQp4qX+r+kzoLT0F5eVl5VF/rWkn6g+yro4483G3d9djo6HM0xGSfsTscmjR+ms7diY+Ter2qpCzJledyK8vbGMUequWvpmRfanmaBUgto0S3wcqlLTN8XM+9L5Cl/aDTav9pHPnPvxkS0XzhfaXAofOAVOhJtbMoP8jFZDx6e3/wQpKfTnVryO0+Jc5EzK1f+tL+9Caw8XCbvzI3/4v9Peviyji+0o/Ctr31X0HGov2+8LJl0dDldW3/GkItVkHTZurf0f5hH2YPezr7KmqrKtLOdekgl3I+AJmFvu3cVRV2AnBrmliH2YP+zp7qirr6lLO0RQLAAAQCIIdAABAIAh2AAAAgSDYAQAABIJgBwAAEAiCHQAAQCAIdgAAAIEg2AEAAASCYAcAABAIgh0AAEAgCHYAAACBINgBAAAEgmAHAAAQCIIdAABAIAh2AAAAgSDYAQAABIJgBwAAEAiCHQAAQCAIdgAAAIEg2AEAAASCYAcAABAIgh0AAEAgCHYAAACBINgBAAAEgmAHAAAQiILy8rLyqL/W+o9Y4GaO6RkN1d4RZz7u9u56bDSE+li19E32ZQZp/6JxLJx8edRXWX3Ln4ZQm3XQtPwdwbTYY3+3ddPnzn29LRqDpi5dWVeXcq7Rgx2ahsI9O7nSdZ9GQ/mpqoCBxpFvwQ6IO23kQjfhlsNd68Jm0RhgR3kX7NB08LeChkawQz4j2KEm6lLGcI4dAABZ1qpwF7exlGZYNDyCHQAAWda6sLnbQrBDBhDsAAAAAkGwAwAACATBDgCALGvTohnn2CEjCHYAAACBINgBAJBlbQqbuY1bqbFDwyPYAQCQZS0TwW5TaVk0BDQcgh0AAEAgCHYAAGSZmmI3l34dDQENh2AHAAAQCIIdAABZ1qrFLpxjh4woKC8vK4/6a40HYKOm8u1vResLIL/lcpkzbtpK/zpsUAf/CqRTl99Ogh2yIh+DHX/bQP7K9e8wwQ41UZe/Y5piAQDIstaFzd3mrVw8gYZHsAMAIMtaFe7CI8WQEQQ7AACAQBDsAADIMjXFbqHGDhlAsAMAAAgEwQ5Azpg48VlXUNDcv4Zo9uw5QW8faq5Ni2acY4eMINgBqBEFktQu07SMwYNPiYYAANUh2AGosUGDil15eZkrKfnIDw8ffrV/Rc2ceOIJfv8NHXpONAZNlZ4Vu3ErNXZoeAQ7AA0iXpMXD3zx8WqCTG2OHD36Pj+s8XE9ehziX6dNm17xvjXVWpdOuvdtGdalLlvrG39Py7ZhWbx4ie+Pzydek2jjrDOaj81b09u2az6icfYZ22e2LOtsOTY+vq7UZgJIRbADUGMWsoqKDnKjRt3jxo592I9XgLnyyit8bdSsWX9yjz76mA9IFmA0vrY1VYsWfeBfrZZQtV0jR95asRx1qRR0ioqK/HtaDy1f63HjjTf7YY3X588993wflEzXrgf69/RZvTdu3FN+erFtEM1H002Y8IzfF5q35qNx1kk82GpfaF5Tp74SjUlSyNM8bL1sX2rfxvelpomvw/TpM/x7tg6pgRj5oWVhM54Vi4wg2AGoMQtZCkBPPPGkH6dgU1JS4gOMQl+/ft/245ctW+a6dOni+zW+IQJIjx5FfjlWm5dKQae4eKDvVxC84Ybr3euvz6oYlvPOO9e/zps3z79K3759/avmr23TtB07dvTjli792L+KApf06dPHv2re3bt3q1Tzlsrml8rmr/1lwc320Ukn9fOv+pw+/+qrM/2w2PZ17tzZvy5fvty/AoAQ7ADU2p133uHDnDVpimrwFPqsU6hSDZ0FwXiAqSvVeqkWS8tWiIrXujUWbZMCpc471LbWlAKhpldYVE0gzapNi86x21zKI8XQ8Ah2AGrNmlTHjXvaB5R4DV6cmiQVvtSsqmlU+2U1VarRk3SfM/pMnMKParGsmXTFihX+1Wh6NVWKlqvQZbVfVhs2fvwE/1qXCxhUWyhW22fzNrWplVQoVqcmWIW7RYtKKmr2rJZR81OIHTbsQj8MANUh2AGoE4UR1VQpQE2fPrWiFs06jb/uuhGJsHWQH9b7CjEKglZLpfHWtJjOZZdd6pdh8xswoL/vV+2f5pHaxBlfDy3Xag01rT6j8XbOW12oKVrz0Hl4mqfmrWWIlqdlpIbRquizOmfQ1knn9YnWLd6sbctBWFr7c+y4KhYNr6C8vKw86q+1/iMWuJljekZDQNXy7W+Fv23EKVTaRQ12kQNyWz58hylnUJ26/I1QYwcAQCOg1g6ZQLADgGrYhQ7U1gHIdQQ7AAAaQavCXXheLBocwQ4AACAQBDtkTMmnpRVdfHjlmi/9MAA0Za0Lm7st1NihgXFVLDJmylur3eiJn0RD2111Ric35KR9oqHcpL9tAPkt13+fLv3VB+7mc7q4ok6F0RigsrrkLIIdMmroXX9zn635Khpybr92u7onf3qovxoMqI9cKH8oA1EfPxm7yF1YvL/r2aN1NAaorC5lDE2xyCgVWnFD+u1LqAPQZOlUFAU6dYtWlLp7n/3YHwDfOzH5JBagvgh2yKjv9m7va+lEr4N7t/P9ANAUdWi3m9u4dZtbULLJ38NOLRrqTvhm22gKoH4Idsg4q7Wjtg4AnD+vLk7n2PUj2KGBEOyQcaq161nUmto6AEhIDXKDe1E2ouHk7cUTWjaA3JHtsoCLJ5DPdK7deXf9nQvKsFN1KWPyOthRoAK5oTG+j7lQBjTWdgPIHZksA+pSxhDsANRbYwWcxi4Dmup2o2Ho4gmhti5/Zfr7WJf5c44dAACNQIGOUIeGRrADAAAIBMEOAAAgEAQ7AACAQBDsArB48RLXo8ch0ZBzw4df7UaPvi8aanxan4kTn42GcktBQXO//wAACAHBLjAKdIsXL3Y33HB9NCb/pQbX+tD+iYfe8vIy1717t2gIQD7hoLbuOKgNF8EuILNnz3FPPPGkmzr1lWiM84WKvsDqVMiICkJNa/SeprP3Jf6lV0FphdPgwadUzM8KUM1Ln9U4K2RtWF1V4tPY/OPrpmU99NDDrqjoIFdSUlIxnZZrn9VrfBvV2XrrNT7+ppt+5m688WbfaVi0PJs+Pp/4j4X6tUx7j8IQyD36jnJQWzXtHyuzhYPacBHsAqHg06/ft9306VOjMclCYdy4p/0XWJ0oNF122aVu7ty5FcODBhW7Pn36JD47o9K4efPm+eFXX53p31eh0L1794r5KSBZCHv00ccS6/CRW7ToAx+QVMDadHovlabp2vXAimlGjrzVjx837ik3bNjFFfP98Y+v9vMtKiry0w0deo4fr3XV8NixD/txNp8JE55x998/xk8zfPhVftjeu/feu92oUff4TsNx2lfnnnt+xbTFxQN9aDRLl37sx+uzNn8AuUHlBQe1HNQiiWAXCAWfK6+8wk2aNCka43wwmzZtesWXUgFLgW7IkCG+EJTx4yckgtSF/sitR48iX7BompEjb3Gvvz7Lf5EXLSrx7yvgnXfeuf5zouUtX77c9ysI2tHfsmXL3IAB/X2/aLpUmrcVMupUeGnZJ554gl8PhdSxYx+Jpt6RwmmczUfhzGjbLQhWR/sqvp7aToVTc911I/xr3759K41H1datW+d+8Ys7oiHUhg7IUDMc1Cbnw0EtDMEuIPqixwscUVixL6w6NVPEQ5wKCSswFMZU6KkwU8BSAaUCTl/0TIgXPOq0zLgVK1ZEfTunQsgKLM0TjcsC3VFH9XIPPvhQNBY1pf130UWXuG7dehDwaoCDWg5qURnBLjCzZv3JFwzSuXPntEeMosLnzjvvqhTa9MVVAWZ0hKofFivQNKzC0GjeOppN1aVLl4r5qHBMtw46Yk33o6WjWS1H26Gj15rSMkWFplGBr/nVROq+0nbGC2hULx7obr/9jsSR/tLoHdSF9h8Br2Y4qOWgFtsR7AKjAkJfdH3hrd+O6NRZwacjVx3VnXRSPz8sml5HqBZoFL40jRU6KjxVGNq8VJDYkWqcFZaaprh4sF+HVHaCs81LneioU0eIWqYK4GQTSLIw1jTpgpqm1+f0vjWpiJo2bLw6hUxttx0tx6XuKxXsIZ2EnWllX2xMG+gU9myfNnT32q96pR2fzS4T67DXXntHey/JAp72r/Yn0uOgloNaRBJJv7yu3ck/nZ92fDa6xlx2KJ3/708zno6utp19Hx94YIz/u7Juzz333GHahupyoQzIxDqsXbtqh32o/arxep+yb3tXUvJReSLEVAwnDs7Kr7zyior++H5MBKaKz2g4cWBa8Tl1mo8+E/9s6vs2L/us5jloUHGl6TSsaWx+qcuJT2OdxulV62bv27rYtJqPxtl4dbYt6rQ823atl41Xp+ni02oaTW/Ls+1VF9+e+DTptpUu89/Husy/QP8k/jPrpP+IBW7mmJ7RUHY15rJDoJownRSrWjigvlK/j7/+9YPuJz8Z4RKhxCUCSTS2YeVCGZCJdVCtnGrttO9uu+3n/jww9RvKvvpTzWjity8aAuou09/HusyfptgmSs2MhDpkyrXXXuN/OB94gKvo6kL7bcmSRX4/xkMd6k8HtekuagBCQbADkDGqbULtKMgR6DKHg1qEjmAHAAAQCIIdAABAIAh2AAAAgSDYAQAABIJgBwAAEAiCHQAAQCDy+gbFAHJHtsuCXLhRb2OsQy5sN4CkTH8f6zL/vA12AJq2XCh/GmMdtEwAuYNgBwANoKkGO4TntJEL3YRbDnetC5tFY4CkupQxnGMHAAAQCIIdAABAIAh2AAAAgSDYAQDQiFoV7uI2lm6LhoD6IdgBAAAEgmAHAAAQCIIdAACNqHVhc7eFplg0EIIdAABAIAh2AAAAgSDYAQAABIJgBwBAI2rTohm3O0GDIdgBAAAEgmAHAAAQCIIdAABAIAh2AAAAgSDYAQDQiNoUNnMbt3LxBBoGwQ4AACAQBDsAAIBAEOwAAGhELQubuU2lZdEQUD8EOwAAgEAQ7AAAAAJBsAMAAAgEwQ4AgEak251sLv06GgLqh2AHAAAQCIIdAABAIAh2AAAAgSDYAQDQiFq12IX72KHBFJSXl5VH/bXWf8QCN3NMz2gIALInF8ofrQMAZFJty7l6BzsAaCwcWCIE46at9K/DBnXwr0B91CvYAQCA+iHYoSFxjh0AAI2odWFzt3kr97FDwyDYAQAABIJgBwAAEAiCHQAAQCAIdgAANKJWhbu4jaXboiGgfgh2AAAAgSDYAQAABIJgBwBAI9LtTrbQFIsGQrADAAAIBMEOAAAgEAQ7AACAQBDsAAAAAlFQXl5WHvUDAIAsmfXuev/62Zov3aRZ/3QXFu/vh3sWtXEd2u3m+4HaItgBANAI7p24zE17a000lNS6sJmbcMvh/hWoC5piAQBoBFef0Snq2+7MfnsT6lAvBDsAABqBAtyFxftFQ8nhISftGw0BdUOwAwCgkcSDHLV1aAgEOwAAGonV2ul1UO/20Vig7rh4AgCARrSpdJub+tYaN+SkfaIxQN0R7AAAAAJBUywAAEAgqLEDgDzTf8SCqA9AY5o5pmfUlzsIdgCQZxTscvEHBWhKcvV7SFMsAABAIAh2AAAAgaApNgdwvgywI5oaq0ZTLND4cvV7SLDLARTSQGV8J3aO/QM0vlz9HtIUCwAAEAiCHQAAQCAIdgAAAIEg2AEAAASCYAcAABAIgh0AAEAgCHYAAACBINgBAAAEgmAHAAAQCIIdAABAIAh2AAAAgSDYAQAABIJgBwAAEAiCHfLG7NlzXEFBczdx4rPRGADZMHr0fb6LGzz4FP+drMrixUv89zWbtDwttzZqsp6apkePQ6Kh2tO+0jKss3XU/tN7dTV8+NU7/L/sjLZhZ/unuvcbU3X/R9iOYIecpPAWLwjrU6iKFd7ZCIW27rlaQALZ0L17N1deXhYNZYeWp+XWRqbXU8Gte/fufhnqJkx4xhUVHRS9W7XqgrOMHfuwu+GG66MhIIlgh5y0bNky/1pS8pEvDBct+sCdeOIJvn/o0HP8e/nAahmrK6CBfKUDGIUQq5WKH4Rp2KhmScPq4rVUml41T/ZeKn139L6m0/vx+avflqv10LBeUz8TX178oNHmpX7Re1WtZ5wtU93Ovttal2nTpvsAZlR+DRpUXOkg09bT1kfz1+f69fu279d8bHnq7LPxmlRNF1/36tZL0+g1ndT3U7dXy9c4Y+th+9/G6f/A2Lbp8zYvdUbzs78D2z6bJj6f+Ofj47EdwQ55wwobfenty52uILPCwbqqCi/R51WgqNCxgif+eSu8bNnWiaa397VOGm/rIJ988okvmEWvmm+8ULLlAflOIWTYsAv9gVePHkUVP8xGf/dPPPFkRa2V6LsnJSUlrmvXA/34K6+8omJ83KOPPuamT5+6w/z1WVtuak2dPjNu3FP+vUWLSiq+m+eee36lA8ZUN954s38v9XNG62fLVDds2MXROztasWKFD3GpBgzoX3Hwqn2Xum1Tp77iPzdr1p98v9UqqtO6jxx5q/9sqldfnemnUa3gnXfeFY3dkWoMNZ+qajfj76fbXoVTrbfRcvv27euKiwe6efPm+XFLl36cKDcX+37tQ70nKgtt/48adU+lgCgar/lrvLZDwyed1C961/nt0n7R+HhgxnYEO+Q9fcGLiorc+PET/PB1143w42z8/feP8eOrogLqzjvv8IW8ClX9IOizKnz0nsZpHipobb41ccABB/gCSPSqQkiFkn68NI90PypAPtL3zGrS46HFzJ0711122aXRkPNBQT/8xpoT9QMeH2/03bMQos++/vos3y9V1eDrM6rlF4WK5cuX+4ARn1c6+n4arbPWPU4hRuHQDtAULnd28FidnW1bnIKOlrezZtyRI2/xr3369PGhNJ3ahDqpanu1n1Q2ql/L0r4+77xzE2H6af85URO03lfZrP/b1P0/ZMiQSuupzxuN13ZI/P9Yf18Kh/XZ56Ej2CGnqZBRYVJVlbuOEkVHunZ0OGnSpEqFUE1YwWGFqj5rBah+pFSjoJCn8fWhgk7Bkdq6utlUus2Nm7YyGgIah9UYWVdVSOrYsWPagGU1XDVlNZRalkJXfaiWrLh4cDS0o3Tvp9teC3GqobPQrnCnclIBTmWmwpzenz59RkVIqy8dBGgdtI40xaZHsENOsyr7mla56yhOTSlWha+ahNrSZ6wAU6eCRJ0VqAp3qc0zNaXtUCGpwKn5cNRZMxboLv3V+27yrFXRWGSLQoi+V0Z///oBtxqx6nTp0sU3xRoFgnjzWnW0LPuu1PazcQpa8XmlowMvo3VODWA6OLPWgepY4Is3LyukWQ2X1HTbtFyxps66Ui2ZajDTNXlL6vtVba+FOK2zPmNUI6eWCe03hTm9rwNv7YvU/a+DcGuiTaXP2LamW1c1XyswYkcEOwRLhUdNa+yMjjLTNa3oyFAFU/xoWQWPHY2r8KoJzUcFojXRYufige7p6Z+5z9Z8Fb2DbNLfrA6WdDCizs6TqinViOsH3D6vsFBVE2o6CguqodFnpTafjdN3WDVS1hKQruZcTYy2nlrn1PCqgzMFCpsmfm5uuhoknXKhgGjTq1kzfhqGlpdu29Qsq/2sJliNs2VWdX5dbWgbtE5WE5gq/n5V2ytad5WBFmBF663wpv2m8epX86lo2K4K1ry0DM0/nbFjH6loAhY7SNfyNU7z0Ck0Nq6qbWmKCsrLy8qjfjSS/iMWuJljekZDEB2hqYZAPx5WaChs6cusgqFz586+0FNAUgFiJ+DqRGMVrnbUrcJAhbPOu7PPxn8UbDmqmTOalwojo3XQSdBanuhHRstRrYWNUwGnZWp9dC6PnaCtdVeho7CoaXQ0rvfsM1UVak2dvhP/c+cRPtAR5tJrKmWGvmeqAdJ3LtMUDnQ6Bt/LmrGatKZ6y5Vc/e0m2OUAgh1QWfw7Men1z90jL3/q+6V1YTMf+pqyplRmEOxyl2rO4gffTU2ufg9pigWQ04actI8vPK86o1M0Bk2JauSzEepEtfmEuppTS0dTDXW5jGAHIC9YwBt+RsdoDAAgFcEOQF75bu/2UR8AIBXBDgAAIBAEOwAAgEAQ7AAAAAJBsAMAAAgEwQ4AACAQBDsAAIBAEOwAAAACQbADAAAIBMEOAAAgEAQ7AACAQBDsAAAAAkGwAwAACATBDgAAIBAEOwAAgEAQ7AAAAAJBsAMAAAgEwQ4AACAQBDsAAIBAEOwAAAACQbADAAAIREF5eVl51I9G0n/EgqgPgJk5pmfUh1QqM9g/QOPK1e8hwQ4A8gzBDmh8BDsAQIOglh/IDQQ7AAAAZAwXTwAAAASCYAcAABAIgh0AAEAgCHYAAACBINgBAAAEgmAHAAAQCIIdAABAIAh2AAAAgSDYAQAABIJgBwAAEAiCHQAAQCAIdgAAAIEg2AEAAASCYAcAABAIgh0AAEAgCHYAAACBINgBAAAEgmAHAAAQCIIdAABAIAh2AAAAgSDYAQAABIJgBwAAEAiCHQAAQCAIdgAAAEFw7v8D+f/1hIB6uNUAAAAASUVORK5CYII=)"
      ],
      "metadata": {
        "id": "nQb26xro0OsM"
      }
    },
    {
      "cell_type": "code",
      "source": [
        "#import data\n",
        "from google.colab import files\n",
        "uploaded = files.upload()"
      ],
      "metadata": {
        "colab": {
          "resources": {
            "http://localhost:8080/nbextensions/google.colab/files.js": {
              "data": "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",
              "ok": true,
              "headers": [
                [
                  "content-type",
                  "application/javascript"
                ]
              ],
              "status": 200,
              "status_text": ""
            }
          },
          "base_uri": "https://localhost:8080/",
          "height": 73
        },
        "id": "vppNW7bNmKol",
        "outputId": "f3be6c7f-59b1-4aa7-c3da-4403728888e6"
      },
      "execution_count": 3,
      "outputs": [
        {
          "output_type": "display_data",
          "data": {
            "text/plain": [
              "<IPython.core.display.HTML object>"
            ],
            "text/html": [
              "\n",
              "     <input type=\"file\" id=\"files-ccfa9960-db42-4a48-b100-3dee5e77f1a2\" name=\"files[]\" multiple disabled\n",
              "        style=\"border:none\" />\n",
              "     <output id=\"result-ccfa9960-db42-4a48-b100-3dee5e77f1a2\">\n",
              "      Upload widget is only available when the cell has been executed in the\n",
              "      current browser session. Please rerun this cell to enable.\n",
              "      </output>\n",
              "      <script src=\"/nbextensions/google.colab/files.js\"></script> "
            ]
          },
          "metadata": {}
        },
        {
          "output_type": "stream",
          "name": "stdout",
          "text": [
            "Saving McDonalds.txt to McDonalds.txt\n"
          ]
        }
      ]
    },
    {
      "cell_type": "markdown",
      "source": [
        "<a name=\"index\"></a>\n",
        "# Index"
      ],
      "metadata": {
        "id": "7bZks0_Bz53p"
      }
    },
    {
      "cell_type": "markdown",
      "source": [
        "[1.Sentence extraction from reviews](#sentenceExtraction)"
      ],
      "metadata": {
        "id": "oGYb7zXEz9Df"
      }
    },
    {
      "cell_type": "markdown",
      "source": [
        "[2.TF-IDF](#TF-IDF)"
      ],
      "metadata": {
        "id": "o7qFU5Ij0FEv"
      }
    },
    {
      "cell_type": "markdown",
      "source": [
        "[3.TextRank](#TextRank)"
      ],
      "metadata": {
        "id": "tDKYmHHSy_MN"
      }
    },
    {
      "cell_type": "markdown",
      "source": [
        "[4.LDA](#LDA)"
      ],
      "metadata": {
        "id": "fBbz3qlFnakJ"
      }
    },
    {
      "cell_type": "markdown",
      "source": [
        "<a name=\"sentenceExtraction\"></a>\n",
        "# 1. Sentence extraction from reviews\n"
      ],
      "metadata": {
        "id": "cYk6rHmlnDkm"
      }
    },
    {
      "cell_type": "markdown",
      "source": [
        "We are going to prove our approach with a bunch of reviews which belongs to important business. Such as MacDonalds, Starbucks and CVS Pharmacy"
      ],
      "metadata": {
        "id": "d7HheEyvnSWH"
      }
    },
    {
      "cell_type": "markdown",
      "source": [
        "The first step is simple: storage all theh reviews on different lists."
      ],
      "metadata": {
        "id": "mGVhIVo7o8i_"
      }
    },
    {
      "cell_type": "code",
      "source": [
        "CVS_Pharmacy_Reviews = []\n",
        "CVS_Pharmacy_Sentences_len =[]\n",
        "\n",
        "file1 = open('CVS_Pharmacy.txt', 'r')\n",
        "Lines = file1.readlines()\n",
        "\n",
        "for line in Lines:\n",
        "  CVS_Pharmacy_Reviews.append(line.strip())"
      ],
      "metadata": {
        "id": "Hcwk5lFUnRWN"
      },
      "execution_count": 4,
      "outputs": []
    },
    {
      "cell_type": "code",
      "source": [
        "CVS_Pharmacy_Sentences = []\n",
        "for r in CVS_Pharmacy_Reviews:\n",
        "  aux = r.split(\".\")\n",
        "  for sentence in aux:\n",
        "    if(len(sentence)>1):\n",
        "      CVS_Pharmacy_Sentences.append(sentence)\n",
        "      CVS_Pharmacy_Sentences_len.append(len(sentence))"
      ],
      "metadata": {
        "id": "0x06V0Aisu78"
      },
      "execution_count": 5,
      "outputs": []
    },
    {
      "cell_type": "code",
      "source": [
        "McDonalds_Reviews = []\n",
        "McDonalds_Sentences_len=[]\n",
        "\n",
        "file1 = open('McDonalds.txt', 'r')\n",
        "Lines = file1.readlines()\n",
        "\n",
        "for line in Lines:\n",
        "  McDonalds_Reviews.append(line.strip())"
      ],
      "metadata": {
        "id": "1yxSFn8yoTRZ"
      },
      "execution_count": 6,
      "outputs": []
    },
    {
      "cell_type": "code",
      "source": [
        "McDonalds_Sentences = []\n",
        "for r in McDonalds_Reviews:\n",
        "  aux = r.split(\".\")\n",
        "  for sentence in aux:\n",
        "    if(len(sentence)>1):\n",
        "      McDonalds_Sentences.append(sentence)\n",
        "      McDonalds_Sentences_len.append(len(sentence))"
      ],
      "metadata": {
        "id": "pRuSWlmCuJDC"
      },
      "execution_count": 7,
      "outputs": []
    },
    {
      "cell_type": "code",
      "source": [
        "Starbucks_Reviews = []\n",
        "Starbucks_Sentences_len=[]\n",
        "\n",
        "file1 = open('Starbucks.txt', 'r')\n",
        "Lines = file1.readlines()\n",
        "\n",
        "for line in Lines:\n",
        "  Starbucks_Reviews.append(line.strip())"
      ],
      "metadata": {
        "id": "9WYVpyiIoao_"
      },
      "execution_count": 8,
      "outputs": []
    },
    {
      "cell_type": "code",
      "source": [
        "Starbucks_Sentences = []\n",
        "for r in Starbucks_Reviews:\n",
        "  aux = r.split(\".\")\n",
        "  for sentence in aux:\n",
        "    if(len(sentence)>1):\n",
        "      Starbucks_Sentences.append(sentence)\n",
        "      Starbucks_Sentences_len.append(len(sentence))"
      ],
      "metadata": {
        "id": "e9cx9OWZucmv"
      },
      "execution_count": 9,
      "outputs": []
    },
    {
      "cell_type": "markdown",
      "source": [
        "After that, the second step is the following: study the most commont length of the senntences -from the reviews-, and delete the outliers -based on the lenght-. "
      ],
      "metadata": {
        "id": "BODFTul9pTyP"
      }
    },
    {
      "cell_type": "code",
      "source": [
        "#Import the libraries\n",
        "import matplotlib.pyplot as plt\n",
        "import seaborn as sns"
      ],
      "metadata": {
        "id": "rxi5iwbSomA-"
      },
      "execution_count": 10,
      "outputs": []
    },
    {
      "cell_type": "markdown",
      "source": [
        "*1.1 CSV Pharmacy*"
      ],
      "metadata": {
        "id": "5b__p9XPr6ww"
      }
    },
    {
      "cell_type": "code",
      "source": [
        "sns.displot(CVS_Pharmacy_Sentences_len,color='red')\n",
        "plt.title('CVS_Pharmacy_sentences')\n",
        "plt.xlabel('Length of sentences -words-')\n",
        "plt.ylabel('Number of sentences')\n",
        "plt.grid()"
      ],
      "metadata": {
        "colab": {
          "base_uri": "https://localhost:8080/",
          "height": 399
        },
        "id": "wQcT-CUPp8-G",
        "outputId": "8058e588-dab7-44c2-a752-f88e8f747730"
      },
      "execution_count": 11,
      "outputs": [
        {
          "output_type": "display_data",
          "data": {
            "text/plain": [
              "<Figure size 360x360 with 1 Axes>"
            ],
            "image/png": "[encoded data removed]"
          },
          "metadata": {
            "needs_background": "light"
          }
        }
      ]
    },
    {
      "cell_type": "code",
      "source": [
        "#BoxPlot\n",
        "fig = plt.figure(figsize =(10, 7))\n",
        "# Creating plot\n",
        "bp = plt.boxplot(CVS_Pharmacy_Sentences_len,showmeans=True) \n",
        "# show plot\n",
        "plt.title(\"boxplot with outliers\")\n",
        "plt.show()"
      ],
      "metadata": {
        "colab": {
          "base_uri": "https://localhost:8080/",
          "height": 444
        },
        "id": "8RGw1UeasDAJ",
        "outputId": "d11b063c-2554-48c7-9c1c-49958c519fdc"
      },
      "execution_count": 12,
      "outputs": [
        {
          "output_type": "display_data",
          "data": {
            "text/plain": [
              "<Figure size 720x504 with 1 Axes>"
            ],
            "image/png": "[encoded data removed]"
          },
          "metadata": {
            "needs_background": "light"
          }
        }
      ]
    },
    {
      "cell_type": "code",
      "source": [
        "medians = [round(item.get_ydata()[0], 1) for item in bp['medians']]\n",
        "means = [round(item.get_ydata()[0], 1) for item in bp['means']]\n",
        "print(f'Medians: {medians}\\n'\n",
        "      f'Means:   {means}')"
      ],
      "metadata": {
        "colab": {
          "base_uri": "https://localhost:8080/"
        },
        "id": "DzaxpJgnsDDC",
        "outputId": "3bcf7531-e7d4-4c2a-c7e1-fe822502189d"
      },
      "execution_count": 13,
      "outputs": [
        {
          "output_type": "stream",
          "name": "stdout",
          "text": [
            "Medians: [31.0]\n",
            "Means:   [39.8]\n"
          ]
        }
      ]
    },
    {
      "cell_type": "code",
      "source": [
        "q1_CSV_Pharmacy = [round(min(item.get_ydata()), 1) for item in bp['boxes']]\n",
        "q3_CSV_Pharmacy= [round(max(item.get_ydata()), 1) for item in bp['boxes']]\n",
        "print(f'Q1: {q1_CSV_Pharmacy}\\n'\n",
        "      f'Q3: {q3_CSV_Pharmacy}')"
      ],
      "metadata": {
        "colab": {
          "base_uri": "https://localhost:8080/"
        },
        "id": "8LlHJAvDsDF6",
        "outputId": "1b791b94-bcfe-4ba6-9aa6-e52084bfaa82"
      },
      "execution_count": 14,
      "outputs": [
        {
          "output_type": "stream",
          "name": "stdout",
          "text": [
            "Q1: [19.0]\n",
            "Q3: [49.0]\n"
          ]
        }
      ]
    },
    {
      "cell_type": "code",
      "source": [
        "#CVS_Pharmacy_Sentences"
      ],
      "metadata": {
        "id": "LXy1p-WasRn4"
      },
      "execution_count": null,
      "outputs": []
    },
    {
      "cell_type": "code",
      "source": [
        "FilterReviewsCVSPharmacy = []\n",
        "totalFilterSentecesCVSPharmacy = 0\n",
        "\n",
        "for r in CVS_Pharmacy_Reviews:\n",
        "  SReview=[]\n",
        "  aux = r.split(\".\")\n",
        "  for sentence in aux:\n",
        "    if(len(sentence)>q1_CSV_Pharmacy[0]):\n",
        "      totalFilterSentecesCVSPharmacy+=1\n",
        "      SReview.append(sentence.lower())\n",
        "  FilterReviewsCVSPharmacy.append(SReview)\n",
        "\n",
        "print(f\"The total of filter sentences are {totalFilterSentecesCVSPharmacy}\")"
      ],
      "metadata": {
        "id": "jenFIh4VyIcR",
        "colab": {
          "base_uri": "https://localhost:8080/"
        },
        "outputId": "37a07b85-a423-49d6-f7ad-7556f2877ca7"
      },
      "execution_count": 15,
      "outputs": [
        {
          "output_type": "stream",
          "name": "stdout",
          "text": [
            "The total of filter sentences are 18\n"
          ]
        }
      ]
    },
    {
      "cell_type": "code",
      "source": [
        "#FilterReviewsCVSPharmacy"
      ],
      "metadata": {
        "id": "ZfAZ6fKFoPYF"
      },
      "execution_count": null,
      "outputs": []
    },
    {
      "cell_type": "markdown",
      "source": [
        "*1.2 McDonalds*"
      ],
      "metadata": {
        "id": "LFN_ojucvCS4"
      }
    },
    {
      "cell_type": "code",
      "source": [
        "sns.displot(McDonalds_Sentences_len,color='yellow')\n",
        "plt.title('McDonalds_Sentences')\n",
        "plt.xlabel('Length of sentences -words-')\n",
        "plt.ylabel('Number of sentences')\n",
        "plt.grid()"
      ],
      "metadata": {
        "colab": {
          "base_uri": "https://localhost:8080/",
          "height": 399
        },
        "id": "SEcd97dwqqN4",
        "outputId": "734db69e-2ddf-47f8-9906-17713b921a86"
      },
      "execution_count": 16,
      "outputs": [
        {
          "output_type": "display_data",
          "data": {
            "text/plain": [
              "<Figure size 360x360 with 1 Axes>"
            ],
            "image/png": "[encoded data removed]"
          },
          "metadata": {
            "needs_background": "light"
          }
        }
      ]
    },
    {
      "cell_type": "code",
      "source": [
        "#BoxPlot\n",
        "fig = plt.figure(figsize =(10, 7))\n",
        "# Creating plot\n",
        "bp = plt.boxplot(McDonalds_Sentences_len,showmeans=True) \n",
        "# show plot\n",
        "plt.title(\"boxplot with outliers\")\n",
        "plt.show()"
      ],
      "metadata": {
        "colab": {
          "base_uri": "https://localhost:8080/",
          "height": 444
        },
        "id": "TJiG2ZACvFuo",
        "outputId": "dc27daf7-b128-4079-b258-8a243bcd2ac8"
      },
      "execution_count": 17,
      "outputs": [
        {
          "output_type": "display_data",
          "data": {
            "text/plain": [
              "<Figure size 720x504 with 1 Axes>"
            ],
            "image/png": "[encoded data removed]"
          },
          "metadata": {
            "needs_background": "light"
          }
        }
      ]
    },
    {
      "cell_type": "code",
      "source": [
        "medians = [round(item.get_ydata()[0], 1) for item in bp['medians']]\n",
        "means = [round(item.get_ydata()[0], 1) for item in bp['means']]\n",
        "print(f'Medians: {medians}\\n'\n",
        "      f'Means:   {means}')"
      ],
      "metadata": {
        "colab": {
          "base_uri": "https://localhost:8080/"
        },
        "id": "ojbyt98RvFxZ",
        "outputId": "3c79c674-e591-4b0a-9153-50652721e196"
      },
      "execution_count": 18,
      "outputs": [
        {
          "output_type": "stream",
          "name": "stdout",
          "text": [
            "Medians: [32.0]\n",
            "Means:   [42.1]\n"
          ]
        }
      ]
    },
    {
      "cell_type": "code",
      "source": [
        "q1_McDonalds = [round(min(item.get_ydata()), 1) for item in bp['boxes']]\n",
        "q3_McDonalds= [round(max(item.get_ydata()), 1) for item in bp['boxes']]\n",
        "print(f'Q1: {q1_McDonalds}\\n'\n",
        "      f'Q3: {q3_McDonalds}')"
      ],
      "metadata": {
        "colab": {
          "base_uri": "https://localhost:8080/"
        },
        "id": "HHirIG4WvN18",
        "outputId": "f23d4ef3-b386-4830-ad92-b594a8b12968"
      },
      "execution_count": 19,
      "outputs": [
        {
          "output_type": "stream",
          "name": "stdout",
          "text": [
            "Q1: [18.0]\n",
            "Q3: [43.5]\n"
          ]
        }
      ]
    },
    {
      "cell_type": "code",
      "source": [
        "FilterReviewsMcDonalds = []\n",
        "totalFilterSentecesMcDonalds = 0\n",
        "\n",
        "for r in McDonalds_Reviews:\n",
        "  SReview=[]\n",
        "  aux = r.split(\".\")\n",
        "  for sentence in aux:\n",
        "    if(len(sentence)>q1_McDonalds[0]):\n",
        "      totalFilterSentecesMcDonalds+=1\n",
        "      SReview.append(sentence.lower())\n",
        "  FilterReviewsMcDonalds.append(SReview)\n",
        "\n",
        "print(f\"The total of filter sentences are {totalFilterSentecesMcDonalds}\")"
      ],
      "metadata": {
        "id": "VLFe2yC0vOBY",
        "colab": {
          "base_uri": "https://localhost:8080/"
        },
        "outputId": "72a177a6-8e5f-41e2-a9db-754f920b17cb"
      },
      "execution_count": 20,
      "outputs": [
        {
          "output_type": "stream",
          "name": "stdout",
          "text": [
            "The total of filter sentences are 21\n"
          ]
        }
      ]
    },
    {
      "cell_type": "markdown",
      "source": [
        "*1.3 Starbucks*"
      ],
      "metadata": {
        "id": "XLu51eH9wPIc"
      }
    },
    {
      "cell_type": "code",
      "source": [
        "sns.displot(Starbucks_Sentences_len,color='green')\n",
        "plt.title('Starbucks Sentences')\n",
        "plt.xlabel('Length of sentences -words-')\n",
        "plt.ylabel('Number of sentences')\n",
        "plt.grid()"
      ],
      "metadata": {
        "colab": {
          "base_uri": "https://localhost:8080/",
          "height": 399
        },
        "id": "hRoidtuOwOgg",
        "outputId": "08bf333c-de95-44ac-c17b-7771b26232c8"
      },
      "execution_count": 21,
      "outputs": [
        {
          "output_type": "display_data",
          "data": {
            "text/plain": [
              "<Figure size 360x360 with 1 Axes>"
            ],
            "image/png": "[encoded data removed]"
          },
          "metadata": {
            "needs_background": "light"
          }
        }
      ]
    },
    {
      "cell_type": "code",
      "source": [
        "#BoxPlot\n",
        "fig = plt.figure(figsize =(10, 7))\n",
        "# Creating plot\n",
        "bp = plt.boxplot(Starbucks_Sentences_len,showmeans=True) \n",
        "# show plot\n",
        "plt.title(\"boxplot with outliers\")\n",
        "plt.show()"
      ],
      "metadata": {
        "colab": {
          "base_uri": "https://localhost:8080/",
          "height": 444
        },
        "id": "4XQtT_dJwOjA",
        "outputId": "7609bc61-1fdb-4dd1-9cc8-c9d89bcba890"
      },
      "execution_count": 22,
      "outputs": [
        {
          "output_type": "display_data",
          "data": {
            "text/plain": [
              "<Figure size 720x504 with 1 Axes>"
            ],
            "image/png": "[encoded data removed]"
          },
          "metadata": {
            "needs_background": "light"
          }
        }
      ]
    },
    {
      "cell_type": "code",
      "source": [
        "medians = [round(item.get_ydata()[0], 1) for item in bp['medians']]\n",
        "means = [round(item.get_ydata()[0], 1) for item in bp['means']]\n",
        "print(f'Medians: {medians}\\n'\n",
        "      f'Means:   {means}')"
      ],
      "metadata": {
        "colab": {
          "base_uri": "https://localhost:8080/"
        },
        "id": "XrGlsrxNwiKP",
        "outputId": "63918482-292a-40de-ed9f-6b3419016e2f"
      },
      "execution_count": 23,
      "outputs": [
        {
          "output_type": "stream",
          "name": "stdout",
          "text": [
            "Medians: [36.5]\n",
            "Means:   [43.8]\n"
          ]
        }
      ]
    },
    {
      "cell_type": "code",
      "source": [
        "q1_Starbucks = [round(min(item.get_ydata()), 1) for item in bp['boxes']]\n",
        "q3_Starbucks= [round(max(item.get_ydata()), 1) for item in bp['boxes']]\n",
        "print(f'Q1: {q1_Starbucks}\\n'\n",
        "      f'Q3: {q3_Starbucks}')"
      ],
      "metadata": {
        "colab": {
          "base_uri": "https://localhost:8080/"
        },
        "id": "ypSjjDQnwiMl",
        "outputId": "ec254f23-7f60-45a1-d963-4ca4ca499b84"
      },
      "execution_count": 24,
      "outputs": [
        {
          "output_type": "stream",
          "name": "stdout",
          "text": [
            "Q1: [22.5]\n",
            "Q3: [54.5]\n"
          ]
        }
      ]
    },
    {
      "cell_type": "code",
      "source": [
        "FilterReviewsStarBucks = []\n",
        "totalFilterSentecesStarBucks = 0\n",
        "\n",
        "for r in Starbucks_Reviews:\n",
        "  SReview=[]\n",
        "  aux = r.split(\".\")\n",
        "  for sentence in aux:\n",
        "    if(len(sentence)>q1_Starbucks[0]):\n",
        "      totalFilterSentecesStarBucks+=1\n",
        "      SReview.append(sentence.lower())\n",
        "  FilterReviewsStarBucks.append(SReview)\n",
        "\n",
        "print(f\"The total of filter sentences are {totalFilterSentecesStarBucks}\")"
      ],
      "metadata": {
        "id": "xxRojMX3zesp",
        "colab": {
          "base_uri": "https://localhost:8080/"
        },
        "outputId": "ab4af327-4838-4805-c175-e071c0fffae7"
      },
      "execution_count": 25,
      "outputs": [
        {
          "output_type": "stream",
          "name": "stdout",
          "text": [
            "The total of filter sentences are 78\n"
          ]
        }
      ]
    },
    {
      "cell_type": "markdown",
      "source": [
        "[**Return to index**](#index)"
      ],
      "metadata": {
        "id": "ip54WVqhzKMW"
      }
    },
    {
      "cell_type": "markdown",
      "source": [
        "<a name=\"TF-IDF\"></a>\n",
        "# 2. TF-IDF"
      ],
      "metadata": {
        "id": "u_l6IS1ooqbq"
      }
    },
    {
      "cell_type": "markdown",
      "source": [
        "*2.1 TF-IDF application*"
      ],
      "metadata": {
        "id": "rwNMIU86xbFh"
      }
    },
    {
      "cell_type": "markdown",
      "source": [
        "In information retrieval, tf–idf (also TF*IDF, TFIDF, TF–IDF, or Tf–idf), short for term frequency–inverse document frequency, is a numerical statistic that is intended to reflect how important a word is to a document in a collection or corpus.\n",
        "\n",
        "In our particular case, the corpus is a mix of reviews that have been made by some clients."
      ],
      "metadata": {
        "id": "YVns5ovto47D"
      }
    },
    {
      "cell_type": "code",
      "source": [
        "import pandas as pd\n",
        "import numpy as np \n",
        "from sklearn.feature_extraction.text import CountVectorizer\n",
        "from sklearn.feature_extraction.text import TfidfTransformer\n",
        "from sklearn.feature_extraction.text import TfidfVectorizer "
      ],
      "metadata": {
        "id": "5qHWcKtApQgL"
      },
      "execution_count": 26,
      "outputs": []
    },
    {
      "cell_type": "code",
      "source": [
        "#Import stopwords is a must\n",
        "import nltk\n",
        "nltk.download('stopwords')\n",
        "from nltk.corpus import stopwords\n",
        "from nltk.tokenize import word_tokenize\n",
        "#stop_words = set(stopwords.words('english'))"
      ],
      "metadata": {
        "colab": {
          "base_uri": "https://localhost:8080/"
        },
        "id": "V08tvCwUpTAz",
        "outputId": "982309a7-6fde-44d0-ab99-22cafbb75038"
      },
      "execution_count": 27,
      "outputs": [
        {
          "output_type": "stream",
          "name": "stderr",
          "text": [
            "[nltk_data] Downloading package stopwords to /root/nltk_data...\n",
            "[nltk_data]   Unzipping corpora/stopwords.zip.\n"
          ]
        }
      ]
    },
    {
      "cell_type": "code",
      "source": [
        "#We are going to use this link, because it has a really big collection of stopwords.\n",
        "import requests\n",
        "stopwords_list = requests.get(\"https://gist.githubusercontent.com/rg089/35e00abf8941d72d419224cfd5b5925d/raw/12d899b70156fd0041fa9778d657330b024b959c/stopwords.txt\").content\n",
        "stop_words = set(stopwords_list.decode().splitlines()) "
      ],
      "metadata": {
        "id": "eBlcUXn1paxo"
      },
      "execution_count": 28,
      "outputs": []
    },
    {
      "cell_type": "markdown",
      "source": [
        "An interesting approach is to add custom stopwords based on the business."
      ],
      "metadata": {
        "id": "vZSZE-SwqAEP"
      }
    },
    {
      "cell_type": "code",
      "source": [
        "stop_words.add('starbucks')\n",
        "#stop_words.add('csv pharmacy')\n",
        "#stop_words.add('csv')\n",
        "#stop_words.add('McDonalds')\n",
        "#stop_words.add(\"McDonald's\")"
      ],
      "metadata": {
        "id": "l1SqEFFGpqXM"
      },
      "execution_count": 29,
      "outputs": []
    },
    {
      "cell_type": "code",
      "source": [
        "print('starbucks' in stop_words)\n",
        "#print('csv pharmacy' in stop_words)\n",
        "#print('csv' in stop_words)\n",
        "#print('McDonalds' in stop_words)\n",
        "#print(\"McDonald's\" in stop_words)"
      ],
      "metadata": {
        "colab": {
          "base_uri": "https://localhost:8080/"
        },
        "id": "BggSV_XoqKgM",
        "outputId": "f123f30e-5cb1-4649-9e00-59ae2f462dac"
      },
      "execution_count": 30,
      "outputs": [
        {
          "output_type": "stream",
          "name": "stdout",
          "text": [
            "True\n"
          ]
        }
      ]
    },
    {
      "cell_type": "code",
      "source": [
        "'''\n",
        "  Here you can change the business\n",
        "'''\n",
        "totalReviewsIDF = FilterReviewsStarBucks"
      ],
      "metadata": {
        "id": "n-ceKPPjqfUq"
      },
      "execution_count": 31,
      "outputs": []
    },
    {
      "cell_type": "code",
      "source": [
        "'''\n",
        "  Input: bunch of reviews\n",
        "  Ouput: Not empty reviews\n",
        "'''\n",
        "def removeEmptyReviews(dataset):\n",
        "  dataset = [x for x in dataset if x]\n",
        "  return dataset"
      ],
      "metadata": {
        "id": "recIB35NqyBq"
      },
      "execution_count": 32,
      "outputs": []
    },
    {
      "cell_type": "code",
      "source": [
        "FiltertotalReviewsIDF = removeEmptyReviews(totalReviewsIDF)"
      ],
      "metadata": {
        "id": "SsKEUpi8rD3K"
      },
      "execution_count": 33,
      "outputs": []
    },
    {
      "cell_type": "markdown",
      "source": [
        "Is is a must to define a preprocessing stage..."
      ],
      "metadata": {
        "id": "7FkKGHSvsSxp"
      }
    },
    {
      "cell_type": "code",
      "source": [
        "'''\n",
        " Input: string\n",
        " Output: preprocessed string\n",
        "'''\n",
        "def preprocessing(sentence):\n",
        "    sentence = toLowerCase(sentence)\n",
        "    sentence = removePunctuation(sentence)\n",
        "    sentence = removeApostrophe(sentence)\n",
        "    sentence = removeCharactersLengthOne(sentence)\n",
        "    sentence = numberConvert(sentence)\n",
        "    sentence = removeStopWords(sentence)\n",
        "    #is it possible to use stemming\n",
        "    sentence = lemmatization(sentence)\n",
        "    sentence = removePunctuation(sentence)\n",
        "    return sentence"
      ],
      "metadata": {
        "id": "36B5Gim1rL5Z"
      },
      "execution_count": 34,
      "outputs": []
    },
    {
      "cell_type": "code",
      "source": [
        "pip install num2words"
      ],
      "metadata": {
        "colab": {
          "base_uri": "https://localhost:8080/"
        },
        "id": "1L7mNizPsPfT",
        "outputId": "bcf7938b-7854-4224-a98f-c44b5398ed01"
      },
      "execution_count": 35,
      "outputs": [
        {
          "output_type": "stream",
          "name": "stdout",
          "text": [
            "Looking in indexes: https://pypi.org/simple, https://us-python.pkg.dev/colab-wheels/public/simple/\n",
            "Collecting num2words\n",
            "  Downloading num2words-0.5.10-py3-none-any.whl (101 kB)\n",
            "\u001b[K     |████████████████████████████████| 101 kB 5.3 MB/s \n",
            "\u001b[?25hRequirement already satisfied: docopt>=0.6.2 in /usr/local/lib/python3.7/dist-packages (from num2words) (0.6.2)\n",
            "Installing collected packages: num2words\n",
            "Successfully installed num2words-0.5.10\n"
          ]
        }
      ]
    },
    {
      "cell_type": "code",
      "source": [
        "from num2words import num2words"
      ],
      "metadata": {
        "id": "oIN9wb7dvDVH"
      },
      "execution_count": 36,
      "outputs": []
    },
    {
      "cell_type": "code",
      "source": [
        "import nltk\n",
        "nltk.download('punkt')"
      ],
      "metadata": {
        "colab": {
          "base_uri": "https://localhost:8080/"
        },
        "id": "uZusuwQKugHH",
        "outputId": "731f0020-0563-470c-de61-7248ade940c4"
      },
      "execution_count": 37,
      "outputs": [
        {
          "output_type": "stream",
          "name": "stderr",
          "text": [
            "[nltk_data] Downloading package punkt to /root/nltk_data...\n",
            "[nltk_data]   Unzipping tokenizers/punkt.zip.\n"
          ]
        },
        {
          "output_type": "execute_result",
          "data": {
            "text/plain": [
              "True"
            ]
          },
          "metadata": {},
          "execution_count": 37
        }
      ]
    },
    {
      "cell_type": "code",
      "source": [
        "import nltk\n",
        "nltk.download('wordnet')"
      ],
      "metadata": {
        "colab": {
          "base_uri": "https://localhost:8080/"
        },
        "id": "RIOFL0HBsR25",
        "outputId": "ee6f1bb2-da4d-4919-f51b-222a5df2b74d"
      },
      "execution_count": 38,
      "outputs": [
        {
          "output_type": "stream",
          "name": "stderr",
          "text": [
            "[nltk_data] Downloading package wordnet to /root/nltk_data...\n"
          ]
        },
        {
          "output_type": "execute_result",
          "data": {
            "text/plain": [
              "True"
            ]
          },
          "metadata": {},
          "execution_count": 38
        }
      ]
    },
    {
      "cell_type": "code",
      "source": [
        "nltk.download('omw-1.4')"
      ],
      "metadata": {
        "colab": {
          "base_uri": "https://localhost:8080/"
        },
        "id": "VE5ZNrhdsdXq",
        "outputId": "77307eb1-789c-48ed-e687-5648085120cc"
      },
      "execution_count": 39,
      "outputs": [
        {
          "output_type": "stream",
          "name": "stderr",
          "text": [
            "[nltk_data] Downloading package omw-1.4 to /root/nltk_data...\n"
          ]
        },
        {
          "output_type": "execute_result",
          "data": {
            "text/plain": [
              "True"
            ]
          },
          "metadata": {},
          "execution_count": 39
        }
      ]
    },
    {
      "cell_type": "code",
      "source": [
        "from nltk.stem import WordNetLemmatizer\n",
        "lemmatizer = WordNetLemmatizer()"
      ],
      "metadata": {
        "id": "c8ra96RQsfSf"
      },
      "execution_count": 40,
      "outputs": []
    },
    {
      "cell_type": "code",
      "source": [
        "'''\n",
        " Input: string with numeric values\n",
        " Output: string without numeric values\n",
        "'''\n",
        "def numberConvert(sentence):\n",
        "  sentence = str(sentence)\n",
        "  filter = []\n",
        "  word_tokens = word_tokenize(sentence)\n",
        "  for  w in word_tokens:\n",
        "    if(w.isnumeric()):\n",
        "      filter.append(num2words(w))\n",
        "    else:\n",
        "      filter.append(w)\n",
        "  filter = \" \".join(filter)\n",
        "  return str(filter)\n",
        "\n",
        "\n",
        "'''\n",
        " Input: string \n",
        " Output: string in lowercase\n",
        "'''\n",
        "def toLowerCase(sentence):\n",
        "  return sentence.lower()\n",
        "\n",
        "\n",
        "'''\n",
        " Input: string \n",
        " Output: string without punctuation\n",
        "'''\n",
        "def removePunctuation(sentence):\n",
        "  symbols = \"!\\\"#$%&()*+-./:;<=>?@[\\]^_`{|}~\\n\"\n",
        "  for i in symbols:\n",
        "    sentence = np.char.replace(sentence, i, ' ')  \n",
        "  return sentence\n",
        "\n",
        "\n",
        "'''\n",
        " Input: string \n",
        " Output: string without apostrophe\n",
        "'''\n",
        "def removeApostrophe(sentence):\n",
        "  return np.char.replace(sentence, \"'\", \"\")\n",
        "\n",
        "\n",
        "'''\n",
        "Input: string\n",
        "Output: string without 1 char length character\n",
        "'''\n",
        "def removeCharactersLengthOne(sentence):\n",
        "  sentence = str(sentence)\n",
        "  filter = \"\"\n",
        "  word_tokens = word_tokenize(sentence)\n",
        "  flag = 0\n",
        "  for w in word_tokens:\n",
        "    if flag ==0:\n",
        "       filter = filter + w\n",
        "       flag =1\n",
        "    if len(w) > 1:\n",
        "      filter = filter + \" \" + w\n",
        "  return str(filter)\n",
        "\n",
        "\n",
        "'''\n",
        "Input: string\n",
        "Output: stemming(string)\n",
        "'''\n",
        "def Stemming(sentence):\n",
        "  word_tokens = word_tokenize(sentence)\n",
        "  s_filter = []\n",
        "  for w in word_tokens:\n",
        "    s_filter.append(ps.stem(w))\n",
        "  s_filter = \" \".join(s_filter)\n",
        "  return str(s_filter)\n",
        "\n",
        "'''\n",
        "Input: string\n",
        "Output: lemmatization(string)\n",
        "'''\n",
        "def lemmatization(sentence):\n",
        "  word_tokens = word_tokenize(sentence)\n",
        "  s_filter = []\n",
        "  for w in word_tokens:\n",
        "    s_filter.append(lemmatizer.lemmatize(w))\n",
        "  s_filter = \" \".join(s_filter)\n",
        "  return str(s_filter)\n",
        "\n",
        "\n",
        "'''\n",
        "Input: string\n",
        "Output: string without stopwords\n",
        "'''\n",
        "def removeStopWords(sentence):\n",
        "  word_tokens = word_tokenize(sentence)\n",
        "  s_filter = [w for w in word_tokens if not w.lower() in stop_words]\n",
        "  s_filter = \" \".join(s_filter)\n",
        "  return str(s_filter)"
      ],
      "metadata": {
        "id": "oHMHX3b6siKp"
      },
      "execution_count": 41,
      "outputs": []
    },
    {
      "cell_type": "code",
      "source": [
        "for i in range(len(FiltertotalReviewsIDF)):\n",
        "  for s in range(len(FiltertotalReviewsIDF[i])):\n",
        "    preprocessed_sentence = preprocessing(FiltertotalReviewsIDF[i][s])\n",
        "    FiltertotalReviewsIDF[i][s]=str(preprocessed_sentence)"
      ],
      "metadata": {
        "id": "zExC6elqt_V9"
      },
      "execution_count": 42,
      "outputs": []
    },
    {
      "cell_type": "code",
      "source": [
        "FiltertotalReviewsIDF = removeEmptyReviews(FiltertotalReviewsIDF)"
      ],
      "metadata": {
        "id": "ZAlcsqdhv4CJ"
      },
      "execution_count": 43,
      "outputs": []
    },
    {
      "cell_type": "code",
      "source": [
        "Corpus = [\" \".join(x) for x in FiltertotalReviewsIDF]"
      ],
      "metadata": {
        "id": "OQQU3iUlwV1X"
      },
      "execution_count": 44,
      "outputs": []
    },
    {
      "cell_type": "code",
      "source": [
        "print(f\"The number of filter sentences is the following: {len(Corpus)}\") "
      ],
      "metadata": {
        "colab": {
          "base_uri": "https://localhost:8080/"
        },
        "id": "3sO2qLtYwfDw",
        "outputId": "b39eadbd-44b2-48b8-89fe-073ba096edd7"
      },
      "execution_count": 45,
      "outputs": [
        {
          "output_type": "stream",
          "name": "stdout",
          "text": [
            "The number of filter sentences is the following: 44\n"
          ]
        }
      ]
    },
    {
      "cell_type": "markdown",
      "source": [
        "Some results are the followings:\n",
        "\n",
        "\n",
        "*   Starbucks filter sentences: 44\n",
        "*   McDonalds filter sentences: ?\n",
        "*   CSV Pharmacy filter sentences: ? \n",
        "\n"
      ],
      "metadata": {
        "id": "ffipRncFwt7W"
      }
    },
    {
      "cell_type": "code",
      "source": [
        "%%time\n",
        "vectorizer_TFIDF = TfidfVectorizer()\n",
        "vectors_TFIDF = vectorizer_TFIDF.fit_transform(Corpus)\n",
        "feature_names = vectorizer_TFIDF.get_feature_names_out()\n",
        "dense = vectors_TFIDF.todense()\n",
        "denselist = dense.tolist()\n",
        "df = pd.DataFrame(denselist, columns=feature_names)"
      ],
      "metadata": {
        "colab": {
          "base_uri": "https://localhost:8080/"
        },
        "id": "TcKukWn5w-dI",
        "outputId": "be213f6f-54a5-4a75-a150-210168ed4fd4"
      },
      "execution_count": 46,
      "outputs": [
        {
          "output_type": "stream",
          "name": "stdout",
          "text": [
            "CPU times: user 22.7 ms, sys: 0 ns, total: 22.7 ms\n",
            "Wall time: 58.7 ms\n"
          ]
        }
      ]
    },
    {
      "cell_type": "code",
      "source": [
        "print(f\"The number of sentences is {df.shape[0]}\")\n",
        "print(f\"The number of different words is {df.shape[1]}\")"
      ],
      "metadata": {
        "colab": {
          "base_uri": "https://localhost:8080/"
        },
        "id": "zcN1rA3mxCQo",
        "outputId": "c79d166d-f982-4e26-ed81-9f8005a5134e"
      },
      "execution_count": null,
      "outputs": [
        {
          "output_type": "stream",
          "name": "stdout",
          "text": [
            "The number of sentences is 44\n",
            "The number of different words is 212\n"
          ]
        }
      ]
    },
    {
      "cell_type": "markdown",
      "source": [
        "*2.2 Word distribution*"
      ],
      "metadata": {
        "id": "P44QjJN0xiuJ"
      }
    },
    {
      "cell_type": "code",
      "source": [
        "import matplotlib.pyplot as plt\n",
        "import matplotlib.cm as cm\n",
        "\n",
        "from sklearn.cluster import MiniBatchKMeans\n",
        "from sklearn.cluster import KMeans\n",
        "\n",
        "from sklearn.feature_extraction.text import TfidfVectorizer\n",
        "from sklearn.decomposition import PCA\n",
        "from sklearn.manifold import TSNE\n",
        "from sklearn.metrics import silhouette_score"
      ],
      "metadata": {
        "id": "HIgYPqI7yQ4F"
      },
      "execution_count": null,
      "outputs": []
    },
    {
      "cell_type": "markdown",
      "source": [
        "In order to watch the word distribution , dimensionallity reduction is a must. To achive that, PCA will be used."
      ],
      "metadata": {
        "id": "K9fCvSa6xvMw"
      }
    },
    {
      "cell_type": "markdown",
      "source": [
        "PCA is used in exploratory data analysis and for making predictive models. It is commonly used for dimensionality reduction by projecting each data point onto only the first few principal components to obtain lower-dimensional data while preserving as much of the data's variation as possible. The first principal component can equivalently be defined as a direction that maximizes the variance of the projected data. The i-th principal component can be taken as a direction orthogonal to the first i-1 principal components that maximizes the variance of the projected data."
      ],
      "metadata": {
        "id": "sgFFkZnhx7MT"
      }
    },
    {
      "cell_type": "code",
      "source": [
        "X = vectorizer_TFIDF.fit_transform(Corpus).toarray() #todense\n",
        "print(X.shape) "
      ],
      "metadata": {
        "colab": {
          "base_uri": "https://localhost:8080/"
        },
        "id": "g5bkDlNtxZSq",
        "outputId": "f8fc68cc-3b24-4d53-c42a-d2debd6ab9d4"
      },
      "execution_count": null,
      "outputs": [
        {
          "output_type": "stream",
          "name": "stdout",
          "text": [
            "(44, 212)\n"
          ]
        }
      ]
    },
    {
      "cell_type": "code",
      "source": [
        "pca = PCA(n_components =2).fit(X)\n",
        "print(pca.components_.shape)"
      ],
      "metadata": {
        "colab": {
          "base_uri": "https://localhost:8080/"
        },
        "id": "AV9u6iPXyOFB",
        "outputId": "69505f01-75aa-4518-e028-b8ebf605a653"
      },
      "execution_count": null,
      "outputs": [
        {
          "output_type": "stream",
          "name": "stdout",
          "text": [
            "(2, 212)\n"
          ]
        }
      ]
    },
    {
      "cell_type": "code",
      "source": [
        "data2D = pca.transform(X)\n",
        "print(data2D.shape)"
      ],
      "metadata": {
        "colab": {
          "base_uri": "https://localhost:8080/"
        },
        "id": "Bkz5dGWcyUcY",
        "outputId": "bcec9d68-a5f6-42c2-e821-1d29e3d777c6"
      },
      "execution_count": null,
      "outputs": [
        {
          "output_type": "stream",
          "name": "stdout",
          "text": [
            "(44, 2)\n"
          ]
        }
      ]
    },
    {
      "cell_type": "code",
      "source": [
        "'''\n",
        "  INPUT: PCA data reduction, max number of clusters\n",
        "  OUTPUT: best number of clusters\n",
        "'''\n",
        "def find_optimal_clusters_silhoutte(data, max_k):\n",
        "  bestNumberOfClusters=0\n",
        "  previousValues=0.0\n",
        "  \n",
        "  for n_clusters in range(2,max_k+1):\n",
        "    km = KMeans(n_clusters,init='k-means++',max_iter =100,random_state=1)\n",
        "   \n",
        "    km.fit(data)\n",
        "    silhoutte_avg = silhouette_score(data, km.labels_,sample_size=1000)\n",
        "  \n",
        "    if(silhoutte_avg > previousValues ):\n",
        "      bestNumberOfClusters = n_clusters\n",
        "      previousValues = silhoutte_avg\n",
        "\n",
        "  print(f\"Numero de clusters elegido: {bestNumberOfClusters}\")\n",
        "  print(f\"Silhoutte score: {previousValues}\")\n",
        "  \n",
        "  return bestNumberOfClusters"
      ],
      "metadata": {
        "id": "0vqC2GO4yaRD"
      },
      "execution_count": null,
      "outputs": []
    },
    {
      "cell_type": "code",
      "source": [
        "bestNumberOfClusters = find_optimal_clusters_silhoutte(data2D, 10) #usar hasta k=10"
      ],
      "metadata": {
        "colab": {
          "base_uri": "https://localhost:8080/"
        },
        "id": "bjexxj1Nywef",
        "outputId": "40079209-a1da-470b-8bc5-c6c1e9fdb92f"
      },
      "execution_count": null,
      "outputs": [
        {
          "output_type": "stream",
          "name": "stdout",
          "text": [
            "Numero de clusters elegido: 3\n",
            "Silhoutte score: 0.5971482499990178\n"
          ]
        }
      ]
    },
    {
      "cell_type": "code",
      "source": [
        "clusters_TFIDF = MiniBatchKMeans(n_clusters=bestNumberOfClusters, init_size=1024, batch_size=2048, random_state=20).fit_predict(vectors_TFIDF)"
      ],
      "metadata": {
        "id": "uHDgh-hfy3Yw"
      },
      "execution_count": null,
      "outputs": []
    },
    {
      "cell_type": "markdown",
      "source": [
        "Function in order to visualize the data of the experiment."
      ],
      "metadata": {
        "id": "BvYBtloRzDKo"
      }
    },
    {
      "cell_type": "code",
      "source": [
        "def plot_tsne_pca(data, labels):\n",
        "    max_label = max(labels)\n",
        "\n",
        "    try:\n",
        "      max_items = np.random.choice(range(data.shape[0]), size=3000, replace=False)\n",
        "    except ValueError:\n",
        "      max_items = np.random.choice(range(data.shape[0]), size=3000, replace=True)\n",
        "\n",
        "    pca = PCA(n_components=2).fit_transform(data[max_items,:].todense())\n",
        "   \n",
        "    try:\n",
        "      tsne = TSNE().fit_transform(PCA(n_components=50).fit_transform(data[max_items,:].todense()))\n",
        "    except ValueError:\n",
        "      tsne = TSNE().fit_transform(PCA(n_components=28).fit_transform(data[max_items,:].todense()))\n",
        "\n",
        "    idx = np.random.choice(range(pca.shape[0]), size=300, replace=False)\n",
        "    label_subset = labels[max_items]\n",
        "    label_subset = [cm.hsv(i/max_label) for i in label_subset[idx]]\n",
        "    \n",
        "    f, ax = plt.subplots(1, 2, figsize=(14, 6))\n",
        "    \n",
        "    ax[0].scatter(pca[idx, 0], pca[idx, 1], c=label_subset)\n",
        "    ax[0].set_title('PCA Cluster Plot')\n",
        "    \n",
        "    ax[1].scatter(tsne[idx, 0], tsne[idx, 1], c=label_subset)\n",
        "    ax[1].set_title('TSNE Cluster Plot')"
      ],
      "metadata": {
        "id": "quxXbJAbzA4g"
      },
      "execution_count": null,
      "outputs": []
    },
    {
      "cell_type": "code",
      "source": [
        "plot_tsne_pca(vectors_TFIDF, clusters_TFIDF)"
      ],
      "metadata": {
        "colab": {
          "base_uri": "https://localhost:8080/",
          "height": 549
        },
        "id": "CNKxe474zJHD",
        "outputId": "044e9c68-d0d3-436e-fe2a-8d9020704444"
      },
      "execution_count": null,
      "outputs": [
        {
          "output_type": "stream",
          "name": "stderr",
          "text": [
            "/usr/local/lib/python3.7/dist-packages/sklearn/utils/validation.py:598: FutureWarning: np.matrix usage is deprecated in 1.0 and will raise a TypeError in 1.2. Please convert to a numpy array with np.asarray. For more information see: https://numpy.org/doc/stable/reference/generated/numpy.matrix.html\n",
            "  FutureWarning,\n",
            "/usr/local/lib/python3.7/dist-packages/sklearn/utils/validation.py:598: FutureWarning: np.matrix usage is deprecated in 1.0 and will raise a TypeError in 1.2. Please convert to a numpy array with np.asarray. For more information see: https://numpy.org/doc/stable/reference/generated/numpy.matrix.html\n",
            "  FutureWarning,\n",
            "/usr/local/lib/python3.7/dist-packages/sklearn/manifold/_t_sne.py:783: FutureWarning: The default initialization in TSNE will change from 'random' to 'pca' in 1.2.\n",
            "  FutureWarning,\n",
            "/usr/local/lib/python3.7/dist-packages/sklearn/manifold/_t_sne.py:793: FutureWarning: The default learning rate in TSNE will change from 200.0 to 'auto' in 1.2.\n",
            "  FutureWarning,\n"
          ]
        },
        {
          "output_type": "display_data",
          "data": {
            "text/plain": [
              "<Figure size 1008x432 with 2 Axes>"
            ],
            "image/png": "[encoded data removed]"
          },
          "metadata": {
            "needs_background": "light"
          }
        }
      ]
    },
    {
      "cell_type": "markdown",
      "source": [
        "*2.3 Keywords Extraction*"
      ],
      "metadata": {
        "id": "T9OMsExHuP2k"
      }
    },
    {
      "cell_type": "markdown",
      "source": [
        "Keyword extraction consists of going through the TF-IDF matrix row by row, and keeping the terms whose values fall within the interval defined by [q1,q3]. After that, you can proceed to manual filtering to end up with the words that really matter."
      ],
      "metadata": {
        "id": "gJ_62Ws_u5ze"
      }
    },
    {
      "cell_type": "code",
      "source": [
        "df.columns"
      ],
      "metadata": {
        "colab": {
          "base_uri": "https://localhost:8080/"
        },
        "id": "D6DEOrSquWnW",
        "outputId": "590d3042-a647-41d9-8530-51247236f407"
      },
      "execution_count": null,
      "outputs": [
        {
          "output_type": "execute_result",
          "data": {
            "text/plain": [
              "Index(['10am', '30am', '5th', '6pm', '9pm', 'add', 'ahead', 'amazing',\n",
              "       'ambience', 'anytime',\n",
              "       ...\n",
              "       'visit', 'visiting', 'warm', 'wifi', 'win', 'winter', 'work', 'worker',\n",
              "       'year', 'zulu'],\n",
              "      dtype='object', length=212)"
            ]
          },
          "metadata": {},
          "execution_count": 57
        }
      ]
    },
    {
      "cell_type": "code",
      "source": [
        "l=  []\n",
        "for i in range(len(Corpus)):\n",
        "  aux = df.iloc[i].values.tolist()\n",
        "  l+=aux"
      ],
      "metadata": {
        "id": "Ed2pwiXNvSML"
      },
      "execution_count": null,
      "outputs": []
    },
    {
      "cell_type": "markdown",
      "source": [
        "The length is equal to the length of the columns -in this case 212-... "
      ],
      "metadata": {
        "id": "tJQM9qhUwgg-"
      }
    },
    {
      "cell_type": "code",
      "source": [
        "len(l) == (len(Corpus)*212)"
      ],
      "metadata": {
        "colab": {
          "base_uri": "https://localhost:8080/"
        },
        "id": "Wetj3KPzviXC",
        "outputId": "3ce84cf5-30e0-4151-cca7-1e9b47f81281"
      },
      "execution_count": null,
      "outputs": [
        {
          "output_type": "execute_result",
          "data": {
            "text/plain": [
              "True"
            ]
          },
          "metadata": {},
          "execution_count": 65
        }
      ]
    },
    {
      "cell_type": "code",
      "source": [
        "l = [i for i in l if i != 0] #remove zeros from list"
      ],
      "metadata": {
        "id": "nfJzEVyswmCR"
      },
      "execution_count": null,
      "outputs": []
    },
    {
      "cell_type": "code",
      "source": [
        "#BoxPlot\n",
        "fig = plt.figure(figsize =(10, 7))\n",
        "# Creating plot\n",
        "bp = plt.boxplot(l,showmeans=True) \n",
        "# show plot\n",
        "plt.title(\"Boxplot with outliers- TF-IDF\")\n",
        "plt.show()"
      ],
      "metadata": {
        "colab": {
          "base_uri": "https://localhost:8080/",
          "height": 444
        },
        "id": "4wX5cFGvwp8w",
        "outputId": "3faf570a-2b94-4316-ff96-b5a72e740832"
      },
      "execution_count": null,
      "outputs": [
        {
          "output_type": "display_data",
          "data": {
            "text/plain": [
              "<Figure size 720x504 with 1 Axes>"
            ],
            "image/png": "[encoded data removed]"
          },
          "metadata": {
            "needs_background": "light"
          }
        }
      ]
    },
    {
      "cell_type": "code",
      "source": [
        "q1_TFIDF = [round(min(item.get_ydata()), 1) for item in bp['boxes']]\n",
        "q3_TFIDF = [round(max(item.get_ydata()), 1) for item in bp['boxes']]\n",
        "print(f'Q1: {q1_TFIDF}\\n'\n",
        "      f'Q3: {q3_TFIDF}')  #q1:0.2 , q3:0.3"
      ],
      "metadata": {
        "colab": {
          "base_uri": "https://localhost:8080/"
        },
        "id": "SD-T8FwOwwBu",
        "outputId": "3847c468-b69e-4aad-e32f-6decc1d9b8e9"
      },
      "execution_count": null,
      "outputs": [
        {
          "output_type": "stream",
          "name": "stdout",
          "text": [
            "Q1: [0.2]\n",
            "Q3: [0.4]\n"
          ]
        }
      ]
    },
    {
      "cell_type": "code",
      "source": [
        "'''\n",
        "Each element from the row of the matrix which value is between q1 and q3 value, is \n",
        "added to the list\n",
        "'''\n",
        "positionsTFIDF =[]\n",
        "for i in range(len(Corpus)):\n",
        "  aux = df.iloc[i].values.tolist()\n",
        "  for index, value in enumerate(aux):\n",
        "      if (q1_TFIDF[0] < value < q3_TFIDF[0] ):\n",
        "        positionsTFIDF.append(index)"
      ],
      "metadata": {
        "id": "SrKtmVz0w0Ko"
      },
      "execution_count": null,
      "outputs": []
    },
    {
      "cell_type": "code",
      "source": [
        "#remove duplicated values\n",
        "positionsTFIDF = list(set(positionsTFIDF)) \n",
        "print(f\"Number of unique keywords: {len(positionsTFIDF)}\")"
      ],
      "metadata": {
        "colab": {
          "base_uri": "https://localhost:8080/"
        },
        "id": "QUNnPGlcxcaT",
        "outputId": "40c4a808-d119-47c9-9f67-d00c9426b8a7"
      },
      "execution_count": null,
      "outputs": [
        {
          "output_type": "stream",
          "name": "stdout",
          "text": [
            "Number of unique keywords: 147\n"
          ]
        }
      ]
    },
    {
      "cell_type": "markdown",
      "source": [
        "Here you can do manual filtering to end up with the words that are really important.\n",
        "\n"
      ],
      "metadata": {
        "id": "4j88cY-TyG53"
      }
    },
    {
      "cell_type": "code",
      "source": [
        "#for p in positionsTFIDF:\n",
        "#  print(df.columns[p])\n",
        "#  print(\"---------------\")"
      ],
      "metadata": {
        "id": "OdXyy3e5xsBK"
      },
      "execution_count": null,
      "outputs": []
    },
    {
      "cell_type": "markdown",
      "source": [
        "[**Return to index**](#index)"
      ],
      "metadata": {
        "id": "FSzw0wnjzPTc"
      }
    },
    {
      "cell_type": "markdown",
      "source": [
        "<a name=\"TextRank\"></a>\n",
        "# 3. TextRank"
      ],
      "metadata": {
        "id": "yzHH9jkepgIE"
      }
    },
    {
      "cell_type": "markdown",
      "source": [
        "*3.1 Implementation*"
      ],
      "metadata": {
        "id": "DnJZ5ovkUY3P"
      }
    },
    {
      "cell_type": "markdown",
      "source": [
        "After performing keyword extraction with the TF-IDF statistics-based method, we proceeded to perform keyword extraction using a graph-based approach."
      ],
      "metadata": {
        "id": "nu3RBLLGp5TK"
      }
    },
    {
      "cell_type": "markdown",
      "source": [
        "The main idea is simply to decide the importance of the nodes that make up a graph. The importance of these will be adjudicated by means of a voting/recommendation system. "
      ],
      "metadata": {
        "id": "SqUz8l23p58W"
      }
    },
    {
      "cell_type": "markdown",
      "source": [
        "In order to extract the keywords, the units to be compared in a ranking can be either lexical units or sequences existing in the input text. These components will form the vertices of the network.\n",
        "\n",
        "\n",
        "The union of terms -through an edge- will be performed as long as the units belong to the same window of size N, being N included in the interval."
      ],
      "metadata": {
        "id": "yRiibcR0qD3r"
      }
    },
    {
      "cell_type": "markdown",
      "source": [
        "*3.1 Keywords Extraction*"
      ],
      "metadata": {
        "id": "XAHtbaIpqUr6"
      }
    },
    {
      "cell_type": "code",
      "source": [
        "import nltk\n",
        "nltk.download('stopwords')\n",
        "from nltk.corpus import stopwords\n",
        "from nltk.tokenize import word_tokenize"
      ],
      "metadata": {
        "colab": {
          "base_uri": "https://localhost:8080/"
        },
        "id": "gOxc7YRMpsyW",
        "outputId": "ebfc4940-040f-4f9d-97d9-44ca573046b2"
      },
      "execution_count": null,
      "outputs": [
        {
          "output_type": "stream",
          "name": "stderr",
          "text": [
            "[nltk_data] Downloading package stopwords to /root/nltk_data...\n",
            "[nltk_data]   Package stopwords is already up-to-date!\n"
          ]
        }
      ]
    },
    {
      "cell_type": "code",
      "source": [
        "import requests\n",
        "stopwords_list = requests.get(\"https://gist.githubusercontent.com/rg089/35e00abf8941d72d419224cfd5b5925d/raw/12d899b70156fd0041fa9778d657330b024b959c/stopwords.txt\").content\n",
        "stop_words = set(stopwords_list.decode().splitlines()) "
      ],
      "metadata": {
        "id": "TqL0Og8kqgcj"
      },
      "execution_count": null,
      "outputs": []
    },
    {
      "cell_type": "code",
      "source": [
        "stop_words.add('starbucks')\n",
        "#stop_words.add('csv pharmacy')\n",
        "#stop_words.add('csv')\n",
        "#stop_words.add('McDonalds')\n",
        "#stop_words.add(\"McDonald's\")"
      ],
      "metadata": {
        "id": "eZ8w-LmMqifJ"
      },
      "execution_count": null,
      "outputs": []
    },
    {
      "cell_type": "code",
      "source": [
        "print('starbucks' in stop_words)\n",
        "#print('csv pharmacy' in stop_words)\n",
        "#print('csv' in stop_words)\n",
        "#print('McDonalds' in stop_words)\n",
        "#print(\"McDonald's\" in stop_words)"
      ],
      "metadata": {
        "colab": {
          "base_uri": "https://localhost:8080/"
        },
        "id": "QMFxDycHqqf6",
        "outputId": "beb839cb-a5f4-4ea5-9ba6-0b4729427362"
      },
      "execution_count": null,
      "outputs": [
        {
          "output_type": "stream",
          "name": "stdout",
          "text": [
            "True\n"
          ]
        }
      ]
    },
    {
      "cell_type": "code",
      "source": [
        "'''\n",
        "  Here you can change the business\n",
        "'''\n",
        "totalReviewsTextRank = FilterReviewsStarBucks"
      ],
      "metadata": {
        "id": "CHIo51eTqs3S"
      },
      "execution_count": null,
      "outputs": []
    },
    {
      "cell_type": "code",
      "source": [
        "totalReviewsTextRank = removeEmptyReviews(totalReviewsTextRank)"
      ],
      "metadata": {
        "id": "e9NmfW0NrFrE"
      },
      "execution_count": null,
      "outputs": []
    },
    {
      "cell_type": "code",
      "source": [
        "nltk.download('averaged_perceptron_tagger')"
      ],
      "metadata": {
        "colab": {
          "base_uri": "https://localhost:8080/"
        },
        "id": "-Nby1zSOrbjx",
        "outputId": "5303e1ab-6ae1-4d9a-9f19-0178a2474922"
      },
      "execution_count": null,
      "outputs": [
        {
          "output_type": "stream",
          "name": "stderr",
          "text": [
            "[nltk_data] Downloading package averaged_perceptron_tagger to\n",
            "[nltk_data]     /root/nltk_data...\n",
            "[nltk_data]   Unzipping taggers/averaged_perceptron_tagger.zip.\n"
          ]
        },
        {
          "output_type": "execute_result",
          "data": {
            "text/plain": [
              "True"
            ]
          },
          "metadata": {},
          "execution_count": 54
        }
      ]
    },
    {
      "cell_type": "code",
      "source": [
        "'''\n",
        "  INPUT: string of words\n",
        "  OUTPUT: string of filtered words -based on the tags-\n",
        "'''\n",
        "def postagFilter(sentence):\n",
        "\n",
        "  word_tokens = word_tokenize(sentence)\n",
        "  aux = nltk.pos_tag(word_tokens)\n",
        "\n",
        "  words_list=[]\n",
        "\n",
        "  pos_tags = ['JJ','JJR','JJS','NN','NNS']\n",
        "\n",
        "  for w in range(len(aux)):\n",
        "    if (aux[w][1]) in pos_tags:\n",
        "      words_list.append(aux[w][0])\n",
        "\n",
        "  words_list = \" \".join(words_list)  \n",
        "  \n",
        "  return str(words_list)"
      ],
      "metadata": {
        "id": "_J14ci22rdcL"
      },
      "execution_count": null,
      "outputs": []
    },
    {
      "cell_type": "code",
      "source": [
        "'''\n",
        "  INPUT: string\n",
        "  OUTPUT: preprocessed string\n",
        "'''\n",
        "def preprocessingTextRank(sentence):\n",
        "  sentence = toLowerCase(sentence) \n",
        "  #Se prueba a filtrar los datos aqui\n",
        "  sentence = postagFilter(sentence)\n",
        "  sentence = removePunctuation(sentence)\n",
        "  sentence = removeApostrophe(sentence)\n",
        "  sentence = removeCharactersLengthOne(sentence)\n",
        "  sentence = numberConvert(sentence)\n",
        "  sentence = removeStopWords(sentence)\n",
        "  #is it possible to use stemming\n",
        "  sentence = lemmatization(sentence)\n",
        "  sentence = removePunctuation(sentence)\n",
        "  return sentence"
      ],
      "metadata": {
        "id": "_3uavHKPr9GF"
      },
      "execution_count": null,
      "outputs": []
    },
    {
      "cell_type": "code",
      "source": [
        "for i in range(len(totalReviewsTextRank)):\n",
        "  for s in range(len(totalReviewsTextRank[i])):\n",
        "    preprocessedSentence = preprocessingTextRank(totalReviewsTextRank[i][s])\n",
        "    totalReviewsTextRank[i][s]=str(preprocessedSentence)"
      ],
      "metadata": {
        "id": "NWOSrWMqs4is"
      },
      "execution_count": null,
      "outputs": []
    },
    {
      "cell_type": "code",
      "source": [
        "totalReviewsTextRank = removeEmptyReviews(totalReviewsTextRank)"
      ],
      "metadata": {
        "id": "FlcDeeVStYdS"
      },
      "execution_count": null,
      "outputs": []
    },
    {
      "cell_type": "code",
      "source": [
        "sentenceTextRank = [\" \".join(x) for x in totalReviewsTextRank]"
      ],
      "metadata": {
        "id": "xhctMa0Ztdbz"
      },
      "execution_count": null,
      "outputs": []
    },
    {
      "cell_type": "code",
      "source": [
        "import spacy\n",
        "from collections import OrderedDict"
      ],
      "metadata": {
        "id": "WyiUoN5rte78"
      },
      "execution_count": null,
      "outputs": []
    },
    {
      "cell_type": "markdown",
      "source": [
        "The tokens obtained up to this point become components of the generated graph(nodes)."
      ],
      "metadata": {
        "id": "Ywjef2WOtg5L"
      }
    },
    {
      "cell_type": "code",
      "source": [
        "'''\n",
        "  INPUT: list of lists, which contains filtered words from each sentence in \n",
        "        the corpus that makes up the corpus\n",
        "\n",
        "  OUTPUT: dictionary with all existing terms \n",
        "'''\n",
        "def getTextRankVocabulary(sentences):\n",
        "  vocabulary = OrderedDict()\n",
        "  index = 0\n",
        "  \n",
        "  for s in sentences:\n",
        "    for w in s:\n",
        "      if w not in vocabulary:\n",
        "        vocabulary[w] = index\n",
        "        index += 1\n",
        "        \n",
        "  return vocabulary"
      ],
      "metadata": {
        "id": "MwpA8Rw_tmtj"
      },
      "execution_count": null,
      "outputs": []
    },
    {
      "cell_type": "code",
      "source": [
        "'''\n",
        "    INPUT: integer representing window size \n",
        "          list of lists with filtered words\n",
        "    Salida: token pairs\n",
        " '''\n",
        "def getPairsOfTokens(window_size, sentences):\n",
        "  \"\"\"Build token_pairs from windows in sentences\"\"\"\n",
        "  pairsTokens = list()\n",
        "  \n",
        "  for s in sentences:\n",
        "    for i, w in enumerate(s):\n",
        "      for j in range(i+1, i+window_size):\n",
        "        if j >= len(s):\n",
        "          break\n",
        "        pair = (w, s[j])\n",
        "        if pair not in pairsTokens:\n",
        "          pairsTokens.append(pair)\n",
        "\n",
        "  return pairsTokens"
      ],
      "metadata": {
        "id": "xCqDkDtLuUDC"
      },
      "execution_count": null,
      "outputs": []
    },
    {
      "cell_type": "code",
      "source": [
        "'''\n",
        "  INPUT: matrix a\n",
        "  OUTPUT: symmetric Matrix\n",
        "'''\n",
        "def symmetricMatrix(a):\n",
        "  return a + a.T - np.diag(a.diagonal())"
      ],
      "metadata": {
        "id": "6Xokh18vuzo0"
      },
      "execution_count": null,
      "outputs": []
    },
    {
      "cell_type": "code",
      "source": [
        "'''\n",
        "  INPUT: dictionary with all existing terms \n",
        "         pair of tokens\n",
        "  Salida: normalized matrix\n",
        "'''\n",
        "def obtainMatrix(vocab, pairsTokens):\n",
        "      \n",
        "  #matrix creation\n",
        "  vocab_size = len(vocab)\n",
        "  m = np.zeros((vocab_size, vocab_size), dtype='float')\n",
        "  for word1, word2 in pairsTokens:\n",
        "    i, j = vocab[word1], vocab[word2]\n",
        "    m[i][j] = 1 #value initialization\n",
        "            \n",
        "  #obtain symmetric matrix\n",
        "  m = symmetricMatrix(m)\n",
        "        \n",
        "  #normalize matrix by columns\n",
        "  norm = np.sum(m, axis=0)\n",
        "  m_norm = np.divide(m, norm, where=norm!=0) \n",
        "        \n",
        "  return m_norm"
      ],
      "metadata": {
        "id": "MnlM_F2Ou-9T"
      },
      "execution_count": null,
      "outputs": []
    },
    {
      "cell_type": "code",
      "source": [
        "'''\n",
        "  Entrada: dictionary (word,weight of word)\n",
        "           integer K\n",
        "  OUTPUT: list with the K keywords according to the weight of the word\n",
        "'''\n",
        "def obtainKKeywords(wordWeight,numberOfKeywords):\n",
        "  KKeywords = []\n",
        "  print(numberOfKeywords)\n",
        "  #Sort dictionary \n",
        "  wordWeight = OrderedDict(sorted(wordWeight.items(), key=lambda t: t[1], reverse=True))\n",
        "\n",
        "  for i, (k,v) in enumerate(wordWeight.items()):\n",
        "    #KKeywords.append(str(k))\n",
        "    if i > numberOfKeywords-1:\n",
        "      break\n",
        "    print(k + ' - ' + str(v))\n",
        "    KKeywords.append(str(k))\n",
        "\n",
        "  return KKeywords"
      ],
      "metadata": {
        "id": "7_rSrReRvixx"
      },
      "execution_count": null,
      "outputs": []
    },
    {
      "cell_type": "code",
      "source": [
        "#------------------Definition of parameters to be used in TextRank-----------------\n",
        "\n",
        "#windows size\n",
        "windows_size = 4\n",
        "#damping coeficient \n",
        "d = 0.85 \n",
        "#convergence threshold\n",
        "convergenceThreshold = 1e-5\n",
        "#number of iterations needed by the ranking algorithm\n",
        "numberOfIterations = 20\n",
        "#dictionary of words and weights\n",
        "weightWordsNode = None "
      ],
      "metadata": {
        "id": "SvhL0TMkwSWZ"
      },
      "execution_count": null,
      "outputs": []
    },
    {
      "cell_type": "code",
      "source": [
        "'''\n",
        "  INPUT: sentence\n",
        "  OUTPUT: list of words that make up the sentence\n",
        "'''\n",
        "def transformSentenceFormat(sentence):\n",
        "\n",
        "  word_tokens = word_tokenize(sentence)\n",
        "  words_list=[]\n",
        "\n",
        "  for w in word_tokens:\n",
        "    words_list.append(w)\n",
        "    \n",
        "  return words_list"
      ],
      "metadata": {
        "id": "efIRxkfoxCTh"
      },
      "execution_count": null,
      "outputs": []
    },
    {
      "cell_type": "code",
      "source": [
        "sentenceTextRankFilter = []\n",
        "for s in sentenceTextRank:\n",
        "  sentenceTextRankFilter.append(transformSentenceFormat(s))"
      ],
      "metadata": {
        "id": "2dH2FyjoxVWQ"
      },
      "execution_count": null,
      "outputs": []
    },
    {
      "cell_type": "code",
      "source": [
        "vocabulary = getTextRankVocabulary(sentenceTextRankFilter) "
      ],
      "metadata": {
        "id": "20wHJa8NxbJY"
      },
      "execution_count": null,
      "outputs": []
    },
    {
      "cell_type": "code",
      "source": [
        "%%time\n",
        "pairOfTokens = getPairsOfTokens(windows_size, sentenceTextRankFilter)"
      ],
      "metadata": {
        "colab": {
          "base_uri": "https://localhost:8080/"
        },
        "id": "QagrZxoJxiU-",
        "outputId": "5679e052-9dda-4c7f-c0ab-60e8bbdc44ae"
      },
      "execution_count": null,
      "outputs": [
        {
          "output_type": "stream",
          "name": "stdout",
          "text": [
            "CPU times: user 14.4 ms, sys: 0 ns, total: 14.4 ms\n",
            "Wall time: 15.4 ms\n"
          ]
        }
      ]
    },
    {
      "cell_type": "code",
      "source": [
        "normalizedMatrix = obtainMatrix(vocabulary, pairOfTokens)"
      ],
      "metadata": {
        "id": "jh8G9OPWxoYn"
      },
      "execution_count": null,
      "outputs": []
    },
    {
      "cell_type": "code",
      "source": [
        "# Weight initialization\n",
        "pr = np.array([1] * len(vocabulary))\n",
        "        \n",
        "# Iteration\n",
        "previous_pr = 0\n",
        "\n",
        "# Perform the process as many times as the number of iterations.\n",
        "for iter in range(numberOfIterations):\n",
        "  pr = (1-d) + d*np.dot(normalizedMatrix, pr)\n",
        "  if abs(previous_pr - sum(pr)) < convergenceThreshold:\n",
        "    break\n",
        "  else:\n",
        "    previous_pr = sum(pr)\n",
        "\n",
        "\n",
        "# Obtain the weight for the word\n",
        "weightWordsNode = dict()\n",
        "for w, i in vocabulary.items():\n",
        "    weightWordsNode[w] = pr[i]\n",
        "        \n",
        "weightWordsNode = weightWordsNode"
      ],
      "metadata": {
        "id": "om8cExXzxuyG"
      },
      "execution_count": null,
      "outputs": []
    },
    {
      "cell_type": "code",
      "source": [
        "KKeywordsTextRank= obtainKKeywords(weightWordsNode,10)"
      ],
      "metadata": {
        "colab": {
          "base_uri": "https://localhost:8080/"
        },
        "id": "1gvw0fGKyOSl",
        "outputId": "8e9e94aa-ee8a-4ba7-8161-0a3b23d11ea1"
      },
      "execution_count": null,
      "outputs": [
        {
          "output_type": "stream",
          "name": "stdout",
          "text": [
            "10\n",
            "awesome - 4.280354289506298\n",
            "day - 3.5085222243263168\n",
            "central - 3.3716046128754806\n",
            "baristas - 3.3291483512120346\n",
            "location - 3.0464462813731474\n",
            "staff - 3.02414140901208\n",
            "great - 2.807098463431229\n",
            "code - 2.483404258397601\n",
            "open - 2.2400551628366308\n",
            "love - 1.9062090794306705\n"
          ]
        }
      ]
    },
    {
      "cell_type": "markdown",
      "source": [
        "*3.2 Application of word2vec to measure the similarity of the words obtained*"
      ],
      "metadata": {
        "id": "cVlEcAMYU8Lm"
      }
    },
    {
      "cell_type": "markdown",
      "source": [
        "As a measure to establish a future comparison, an approach based on calculating the similarity of the k keywords obtained to each other was chosen.\n",
        "\n",
        "To perform this task, the word2vec model was applied."
      ],
      "metadata": {
        "id": "r36Uug-YVDuO"
      }
    },
    {
      "cell_type": "code",
      "source": [
        "pip install gensim"
      ],
      "metadata": {
        "colab": {
          "base_uri": "https://localhost:8080/"
        },
        "id": "ZpbaAsGfVnHx",
        "outputId": "5ba463c5-f16b-464c-9ca0-94d13772ecf4"
      },
      "execution_count": null,
      "outputs": [
        {
          "output_type": "stream",
          "name": "stdout",
          "text": [
            "Looking in indexes: https://pypi.org/simple, https://us-python.pkg.dev/colab-wheels/public/simple/\n",
            "Requirement already satisfied: gensim in /usr/local/lib/python3.7/dist-packages (3.6.0)\n",
            "Requirement already satisfied: scipy>=0.18.1 in /usr/local/lib/python3.7/dist-packages (from gensim) (1.7.3)\n",
            "Requirement already satisfied: six>=1.5.0 in /usr/local/lib/python3.7/dist-packages (from gensim) (1.15.0)\n",
            "Requirement already satisfied: numpy>=1.11.3 in /usr/local/lib/python3.7/dist-packages (from gensim) (1.21.6)\n",
            "Requirement already satisfied: smart-open>=1.2.1 in /usr/local/lib/python3.7/dist-packages (from gensim) (5.2.1)\n"
          ]
        }
      ]
    },
    {
      "cell_type": "code",
      "source": [
        "from gensim.models import KeyedVectors\n",
        "from sklearn.metrics.pairwise import cosine_similarity\n",
        "print('Imported Successfully!')"
      ],
      "metadata": {
        "colab": {
          "base_uri": "https://localhost:8080/"
        },
        "id": "3qyc1l1YVn7g",
        "outputId": "0c1714a0-d3d0-4d26-e49f-b6c52b79363d"
      },
      "execution_count": null,
      "outputs": [
        {
          "output_type": "stream",
          "name": "stdout",
          "text": [
            "Imported Successfully!\n"
          ]
        }
      ]
    },
    {
      "cell_type": "code",
      "source": [
        "import gensim.downloader as api\n",
        "\n",
        "word_vectors = api.load('word2vec-google-news-300')"
      ],
      "metadata": {
        "colab": {
          "base_uri": "https://localhost:8080/"
        },
        "id": "SZWKjSQIVq3X",
        "outputId": "ac147035-6f63-4807-d79a-524af6dc9df8"
      },
      "execution_count": null,
      "outputs": [
        {
          "output_type": "stream",
          "name": "stdout",
          "text": [
            "[==================================================] 100.0% 1662.8/1662.8MB downloaded\n"
          ]
        }
      ]
    },
    {
      "cell_type": "code",
      "source": [
        "'''\n",
        "  INPUT: k most similar words\n",
        "  OUTPUT: List with the similarity obtained for each word with the rest of \n",
        "          the word\n",
        "'''\n",
        "def calculateSimilarities(KTextRankKeywords):\n",
        "\n",
        "  similarities = []\n",
        "\n",
        "  for k in range(len(KTextRankKeywords)):\n",
        "    #If it is initial element\n",
        "    if(k==0):\n",
        "      for j in range(1,10):\n",
        "        V1=  word_vectors[str(KTextRankKeywords[k])]\n",
        "        V2 = word_vectors[str(KTextRankKeywords[j])]\n",
        "        similarities.append(cosine_similarity([V1],[V2])[0][0])\n",
        "    #If it is the intermediate element\n",
        "    elif(0 < k < 9):\n",
        "      #lower half\n",
        "      for j in range(0,k):\n",
        "        V1=  word_vectors[str(KTextRankKeywords[k])]\n",
        "        V2 = word_vectors[str(KTextRankKeywords[j])]\n",
        "        similarities.append(cosine_similarity([V1],[V2])[0][0])\n",
        "    #upper half\n",
        "      for j in range(k+1,10):\n",
        "        V1=  word_vectors[str(KTextRankKeywords[k])]\n",
        "        V2 = word_vectors[str(KTextRankKeywords[j])]\n",
        "        similarities.append(cosine_similarity([V1],[V2])[0][0])\n",
        "    #If it is a superior element\n",
        "    elif(k == 9):\n",
        "      for j in range(0,9):\n",
        "        V1=  word_vectors[str(KTextRankKeywords[k])]\n",
        "        V2 = word_vectors[str(KTextRankKeywords[j])]\n",
        "        similarities.append(cosine_similarity([V1],[V2])[0][0])\n",
        "  \n",
        "  return similarities"
      ],
      "metadata": {
        "id": "TOCAXfZOVuTY"
      },
      "execution_count": null,
      "outputs": []
    },
    {
      "cell_type": "code",
      "source": [
        "similarities = calculateSimilarities(KKeywordsTextRank)"
      ],
      "metadata": {
        "id": "a7sGq27hW42W"
      },
      "execution_count": null,
      "outputs": []
    },
    {
      "cell_type": "code",
      "source": [
        "print(f\"The average similarity of the words is {np.array(similarities).mean()}\")"
      ],
      "metadata": {
        "colab": {
          "base_uri": "https://localhost:8080/"
        },
        "id": "GAt7BNYlW-3Y",
        "outputId": "d6ed36c6-3c08-470b-b8bd-24ac4bd7ce98"
      },
      "execution_count": null,
      "outputs": [
        {
          "output_type": "stream",
          "name": "stdout",
          "text": [
            "The average similarity of the words is 0.10774349421262741\n"
          ]
        }
      ]
    },
    {
      "cell_type": "markdown",
      "source": [
        "[**Return to index**](#index)"
      ],
      "metadata": {
        "id": "qcghMbcXzUe6"
      }
    },
    {
      "cell_type": "markdown",
      "source": [
        "<a name=\"LDA\"></a>\n",
        "# 4. LDA"
      ],
      "metadata": {
        "id": "4L89_BpqfU0K"
      }
    },
    {
      "cell_type": "markdown",
      "source": [
        "LDA is a probabilistic generative model for collections of discrete data, such as texts. The main idea lies in the proposition that documents are presented as random mixtures of topics, where each topic is characterized by a distribution of words. Moreover, each topic is given by a probability."
      ],
      "metadata": {
        "id": "oLsk8M5IfZqc"
      }
    },
    {
      "cell_type": "markdown",
      "source": [
        "*4.1 Corpus preparation*"
      ],
      "metadata": {
        "id": "zYSiwRTqfsHx"
      }
    },
    {
      "cell_type": "code",
      "source": [
        "'''\n",
        " EJECUTAR SOLO EN ALGUNAS OCASIONES\n",
        "''' \n",
        "'''\n",
        "  Here you can change the business\n",
        "'''\n",
        "totalReviewsLDA = FilterReviewsStarBucks"
      ],
      "metadata": {
        "id": "-IhMBywHf6x9"
      },
      "execution_count": 47,
      "outputs": []
    },
    {
      "cell_type": "code",
      "source": [
        "totalReviewsLDA = removeEmptyReviews(FilterReviewsStarBucks)"
      ],
      "metadata": {
        "id": "wX_2BCqXgMbT"
      },
      "execution_count": 48,
      "outputs": []
    },
    {
      "cell_type": "code",
      "source": [
        "'''\n",
        " INPUT: string\n",
        " OUTPUT: preprocessed string\n",
        "'''\n",
        "def preprocessingLDA(sentence):\n",
        "  sentence = toLowerCase(sentence) \n",
        "  sentence = removePunctuation(sentence)\n",
        "  sentence = removeApostrophe(sentence)\n",
        "  sentence = removeCharactersLengthOne(sentence)\n",
        "  sentence = numberConvert(sentence)\n",
        "  sentence = removeStopWords(sentence)\n",
        "  sentence = lemmatization(sentence)\n",
        "  sentence = removePunctuation(sentence)\n",
        "  return sentence"
      ],
      "metadata": {
        "id": "pfzOe3b6geOQ"
      },
      "execution_count": 49,
      "outputs": []
    },
    {
      "cell_type": "code",
      "source": [
        "for i in range(len(totalReviewsLDA)):\n",
        "  for s in range(len(totalReviewsLDA[i])):\n",
        "    preprocessedSentence = preprocessingLDA(totalReviewsLDA[i][s])\n",
        "    totalReviewsLDA[i][s]=str(preprocessedSentence)"
      ],
      "metadata": {
        "id": "6BSH2zWEhTvo"
      },
      "execution_count": 50,
      "outputs": []
    },
    {
      "cell_type": "code",
      "source": [
        "totalReviewsLDA = removeEmptyReviews(totalReviewsLDA)"
      ],
      "metadata": {
        "id": "7G3W7vhOheq8"
      },
      "execution_count": 51,
      "outputs": []
    },
    {
      "cell_type": "code",
      "source": [
        "sentenceLDA = [\" \".join(x) for x in totalReviewsLDA]"
      ],
      "metadata": {
        "id": "MxxiTsDlhhXo"
      },
      "execution_count": 52,
      "outputs": []
    },
    {
      "cell_type": "markdown",
      "source": [
        "A list of lists is obtained, where each list contains the words of a sentence that makes up the total number of reviews."
      ],
      "metadata": {
        "id": "PzqgTmiAhy1x"
      }
    },
    {
      "cell_type": "code",
      "source": [
        "t = []\n",
        "for r in totalReviewsLDA:\n",
        "  temp = \"\"\n",
        "  for s in r:\n",
        "    temp+=s\n",
        "    temp+=\" \"\n",
        "  temp+=\" \"\n",
        "  #aux = []\n",
        "  #aux.append(temp)\n",
        "  t.append(word_tokenize(temp))"
      ],
      "metadata": {
        "id": "-vc91SSGhjKP"
      },
      "execution_count": 53,
      "outputs": []
    },
    {
      "cell_type": "markdown",
      "source": [
        "*4.2 Exploratory analysis*"
      ],
      "metadata": {
        "id": "rfLhvk0Mh5I1"
      }
    },
    {
      "cell_type": "code",
      "source": [
        "from wordcloud import WordCloud"
      ],
      "metadata": {
        "id": "bCcDBqe-h-DG"
      },
      "execution_count": 55,
      "outputs": []
    },
    {
      "cell_type": "code",
      "source": [
        "string_data_LDA = ','.join(sentenceLDA)"
      ],
      "metadata": {
        "id": "bt1noK7miAzm"
      },
      "execution_count": 56,
      "outputs": []
    },
    {
      "cell_type": "code",
      "source": [
        "wordcloud = WordCloud(background_color=\"white\", max_words=5000, contour_width=3, contour_color='steelblue')\n",
        "wordcloud.generate(string_data_LDA)\n",
        "wordcloud.to_image()"
      ],
      "metadata": {
        "colab": {
          "base_uri": "https://localhost:8080/",
          "height": 217
        },
        "id": "Xd50_GwBiDLq",
        "outputId": "308b57c9-4ec7-4271-a27c-44f53548c2cc"
      },
      "execution_count": 57,
      "outputs": [
        {
          "output_type": "execute_result",
          "data": {
            "text/plain": [
              "<PIL.Image.Image image mode=RGB size=400x200 at 0x7F6811FFA190>"
            ],
            "image/png": "[encoded data removed]"
          },
          "metadata": {},
          "execution_count": 57
        }
      ]
    },
    {
      "cell_type": "markdown",
      "source": [
        "From the generated word cloud, we can try to infer which themes exist in the set of reviews."
      ],
      "metadata": {
        "id": "QSfooL_wiRAe"
      }
    },
    {
      "cell_type": "markdown",
      "source": [
        "*4.3 LDA application*"
      ],
      "metadata": {
        "id": "ET66Oj4KiNVV"
      }
    },
    {
      "cell_type": "code",
      "source": [
        "import gensim.corpora as corpora\n",
        "import gensim"
      ],
      "metadata": {
        "id": "Qupp2Ls8iQK-"
      },
      "execution_count": 58,
      "outputs": []
    },
    {
      "cell_type": "code",
      "source": [
        "id2word = corpora.Dictionary(t)"
      ],
      "metadata": {
        "id": "XGtA33dXihzw"
      },
      "execution_count": 59,
      "outputs": []
    },
    {
      "cell_type": "markdown",
      "source": [
        "The BOW representation of the data is created."
      ],
      "metadata": {
        "id": "T82TTjWtioVg"
      }
    },
    {
      "cell_type": "code",
      "source": [
        "corpusLDA = [id2word.doc2bow(review) for review in t]"
      ],
      "metadata": {
        "id": "KXfhRXd9ipM9"
      },
      "execution_count": 60,
      "outputs": []
    },
    {
      "cell_type": "markdown",
      "source": [
        "One approach could be to train the model with a number of topics equal to what is intuited, but this may seem somewhat subjective.\n",
        "\n",
        "To achieve this, the coherence mechanism discussed in the paper \"Michael Roeder, Andreas Both and Alexander Hinneburg: \"Exploring the space of topic coherence measures\" has been applied.\n",
        "\n",
        "Iteration over different numbers of topics will be tested, and the coherence will be saved. The number of topics associated with the maximum coherence value will be chosen."
      ],
      "metadata": {
        "id": "4AgxhHjFis1x"
      }
    },
    {
      "cell_type": "code",
      "source": [
        "from gensim.models.coherencemodel import CoherenceModel"
      ],
      "metadata": {
        "id": "8reC0pyvi7Fa"
      },
      "execution_count": 61,
      "outputs": []
    },
    {
      "cell_type": "code",
      "source": [
        "from pprint import pprint"
      ],
      "metadata": {
        "id": "MskZKakYi907"
      },
      "execution_count": 62,
      "outputs": []
    },
    {
      "cell_type": "code",
      "source": [
        "%%time\n",
        "coherence = []\n",
        "\n",
        "for num_topics in range(1,21):\n",
        "  # Build LDA model\n",
        "  lda_model = gensim.models.LdaMulticore(corpus=corpusLDA,\n",
        "                                        id2word=id2word,\n",
        "                                        num_topics=num_topics)\n",
        "  # Print the Keyword in the 3 topics\n",
        "  #pprint(lda_model.print_topics())\n",
        "  doc_lda = lda_model[corpusLDA]\n",
        "\n",
        "  cm = CoherenceModel(model=lda_model, corpus=corpusLDA, coherence='u_mass')\n",
        "  coherence.append(cm.get_coherence())  # get coherence value"
      ],
      "metadata": {
        "colab": {
          "base_uri": "https://localhost:8080/"
        },
        "id": "YBN9bmVDjCkZ",
        "outputId": "84c00b80-cd22-46df-ef67-043788180fe3"
      },
      "execution_count": 63,
      "outputs": [
        {
          "output_type": "stream",
          "name": "stderr",
          "text": [
            "WARNING:gensim.models.ldamulticore:too few updates, training might not converge; consider increasing the number of passes or iterations to improve accuracy\n",
            "WARNING:gensim.models.ldamulticore:too few updates, training might not converge; consider increasing the number of passes or iterations to improve accuracy\n",
            "WARNING:gensim.models.ldamulticore:too few updates, training might not converge; consider increasing the number of passes or iterations to improve accuracy\n",
            "WARNING:gensim.models.ldamulticore:too few updates, training might not converge; consider increasing the number of passes or iterations to improve accuracy\n",
            "WARNING:gensim.models.ldamulticore:too few updates, training might not converge; consider increasing the number of passes or iterations to improve accuracy\n",
            "WARNING:gensim.models.ldamulticore:too few updates, training might not converge; consider increasing the number of passes or iterations to improve accuracy\n",
            "WARNING:gensim.models.ldamulticore:too few updates, training might not converge; consider increasing the number of passes or iterations to improve accuracy\n",
            "WARNING:gensim.models.ldamulticore:too few updates, training might not converge; consider increasing the number of passes or iterations to improve accuracy\n",
            "WARNING:gensim.models.ldamulticore:too few updates, training might not converge; consider increasing the number of passes or iterations to improve accuracy\n",
            "WARNING:gensim.models.ldamulticore:too few updates, training might not converge; consider increasing the number of passes or iterations to improve accuracy\n",
            "WARNING:gensim.models.ldamulticore:too few updates, training might not converge; consider increasing the number of passes or iterations to improve accuracy\n",
            "WARNING:gensim.models.ldamulticore:too few updates, training might not converge; consider increasing the number of passes or iterations to improve accuracy\n",
            "WARNING:gensim.models.ldamulticore:too few updates, training might not converge; consider increasing the number of passes or iterations to improve accuracy\n",
            "WARNING:gensim.models.ldamulticore:too few updates, training might not converge; consider increasing the number of passes or iterations to improve accuracy\n",
            "WARNING:gensim.models.ldamulticore:too few updates, training might not converge; consider increasing the number of passes or iterations to improve accuracy\n",
            "WARNING:gensim.models.ldamulticore:too few updates, training might not converge; consider increasing the number of passes or iterations to improve accuracy\n",
            "WARNING:gensim.models.ldamulticore:too few updates, training might not converge; consider increasing the number of passes or iterations to improve accuracy\n",
            "WARNING:gensim.models.ldamulticore:too few updates, training might not converge; consider increasing the number of passes or iterations to improve accuracy\n",
            "WARNING:gensim.models.ldamulticore:too few updates, training might not converge; consider increasing the number of passes or iterations to improve accuracy\n",
            "WARNING:gensim.models.ldamulticore:too few updates, training might not converge; consider increasing the number of passes or iterations to improve accuracy\n"
          ]
        },
        {
          "output_type": "stream",
          "name": "stdout",
          "text": [
            "CPU times: user 1.89 s, sys: 421 ms, total: 2.32 s\n",
            "Wall time: 4.44 s\n"
          ]
        }
      ]
    },
    {
      "cell_type": "code",
      "source": [
        "numberOfTopics = coherence.index(max(coherence))+1"
      ],
      "metadata": {
        "id": "zpKnU43zjMqX"
      },
      "execution_count": 64,
      "outputs": []
    },
    {
      "cell_type": "code",
      "source": [
        "print(f\"The number of topics: {numberOfTopics}\")"
      ],
      "metadata": {
        "colab": {
          "base_uri": "https://localhost:8080/"
        },
        "id": "rCFUfx8ejPYm",
        "outputId": "d79627b7-7239-4b0a-fb64-db8697ae19c7"
      },
      "execution_count": 66,
      "outputs": [
        {
          "output_type": "stream",
          "name": "stdout",
          "text": [
            "The number of topics: 1\n"
          ]
        }
      ]
    },
    {
      "cell_type": "code",
      "source": [
        "lda_model = gensim.models.LdaMulticore(corpus=corpusLDA,\n",
        "                                        id2word=id2word,\n",
        "                                        num_topics=numberOfTopics)\n",
        "pprint(lda_model.print_topics())\n",
        "doc_lda = lda_model[corpusLDA]"
      ],
      "metadata": {
        "colab": {
          "base_uri": "https://localhost:8080/"
        },
        "id": "Cb3xkkIsjhsP",
        "outputId": "e9d35e37-64df-4a0a-c88d-d757f3b5b5a1"
      },
      "execution_count": 67,
      "outputs": [
        {
          "output_type": "stream",
          "name": "stderr",
          "text": [
            "WARNING:gensim.models.ldamulticore:too few updates, training might not converge; consider increasing the number of passes or iterations to improve accuracy\n"
          ]
        },
        {
          "output_type": "stream",
          "name": "stdout",
          "text": [
            "[(0,\n",
            "  '0.032*\"awesome\" + 0.025*\"friendly\" + 0.025*\"open\" + 0.024*\"central\" + '\n",
            "  '0.022*\"baristas\" + 0.022*\"staff\" + 0.018*\"love\" + 0.018*\"great\" + '\n",
            "  '0.016*\"location\" + 0.013*\"free\"')]\n"
          ]
        }
      ]
    },
    {
      "cell_type": "markdown",
      "source": [
        "We proceed to take a brief look at the five most important words of each topic."
      ],
      "metadata": {
        "id": "maI-kXjyklQI"
      }
    },
    {
      "cell_type": "code",
      "source": [
        "for i in range(numberOfTopics):\n",
        "  print(f\"Number of topic: {i+1}\")\n",
        "  words = lda_model.show_topic(i, topn=5)\n",
        "  for p in words:\n",
        "    print(p)\n",
        "  print(\"----------------------------------\")"
      ],
      "metadata": {
        "colab": {
          "base_uri": "https://localhost:8080/"
        },
        "id": "l-5r9MorkkSv",
        "outputId": "970aecde-2903-4a0a-bc90-b5ef8ec2dac6"
      },
      "execution_count": 69,
      "outputs": [
        {
          "output_type": "stream",
          "name": "stdout",
          "text": [
            "Number of topic: 1\n",
            "('awesome', 0.032400593)\n",
            "('friendly', 0.02503682)\n",
            "('open', 0.02503682)\n",
            "('central', 0.023564063)\n",
            "('baristas', 0.022091314)\n",
            "----------------------------------\n"
          ]
        }
      ]
    },
    {
      "cell_type": "markdown",
      "source": [
        "*4.4 Keywords Extraction*"
      ],
      "metadata": {
        "id": "o5Jn9_Z1kyUE"
      }
    },
    {
      "cell_type": "markdown",
      "source": [
        "In order to extract k key words, the 5 most representative words for each of the topics were considered. Repeated terms are subsequently excluded."
      ],
      "metadata": {
        "id": "_h-S7qaak49h"
      }
    },
    {
      "cell_type": "code",
      "source": [
        "KKeywords = []\n",
        "for i in range(numberOfTopics):\n",
        "  words = lda_model.show_topic(i, topn=5)\n",
        "  for p in words:\n",
        "    KKeywords.append(p[0])"
      ],
      "metadata": {
        "id": "rsE_THC8k0ka"
      },
      "execution_count": 70,
      "outputs": []
    },
    {
      "cell_type": "code",
      "source": [
        "len(KKeywords)==5*numberOfTopics"
      ],
      "metadata": {
        "colab": {
          "base_uri": "https://localhost:8080/"
        },
        "id": "KRw2PO-glD7A",
        "outputId": "6ba19c4b-5cad-443d-c286-06cbf1a1bdf0"
      },
      "execution_count": 71,
      "outputs": [
        {
          "output_type": "execute_result",
          "data": {
            "text/plain": [
              "True"
            ]
          },
          "metadata": {},
          "execution_count": 71
        }
      ]
    },
    {
      "cell_type": "code",
      "source": [
        "KKeywords = list(set(KKeywords))"
      ],
      "metadata": {
        "id": "UbXTYOrGlHCp"
      },
      "execution_count": 72,
      "outputs": []
    },
    {
      "cell_type": "code",
      "source": [
        "KKeywordsLDA=KKeywords"
      ],
      "metadata": {
        "id": "uKs4mJlmlMSa"
      },
      "execution_count": 73,
      "outputs": []
    },
    {
      "cell_type": "code",
      "source": [
        "print(f\"The number of keywords is: {len(KKeywordsLDA)}\")"
      ],
      "metadata": {
        "colab": {
          "base_uri": "https://localhost:8080/"
        },
        "id": "kkz5uZePlS3B",
        "outputId": "d1a9d71e-f9c2-43d7-d8a6-c8296dbe7ca9"
      },
      "execution_count": 74,
      "outputs": [
        {
          "output_type": "stream",
          "name": "stdout",
          "text": [
            "The number of keywords is: 5\n"
          ]
        }
      ]
    },
    {
      "cell_type": "code",
      "source": [
        "KKeywordsLDA"
      ],
      "metadata": {
        "colab": {
          "base_uri": "https://localhost:8080/"
        },
        "id": "_zUDFBGSlXRU",
        "outputId": "b1109450-611f-4a86-cd5a-8ee81e8521a2"
      },
      "execution_count": 75,
      "outputs": [
        {
          "output_type": "execute_result",
          "data": {
            "text/plain": [
              "['awesome', 'friendly', 'central', 'baristas', 'open']"
            ]
          },
          "metadata": {},
          "execution_count": 75
        }
      ]
    },
    {
      "cell_type": "markdown",
      "source": [
        "*4.5 Similarity of words obtained*"
      ],
      "metadata": {
        "id": "eKmvtxuDlZjT"
      }
    },
    {
      "cell_type": "code",
      "source": [
        "from gensim.models import KeyedVectors\n",
        "from sklearn.metrics.pairwise import cosine_similarity\n",
        "print('Imported Successfully!')"
      ],
      "metadata": {
        "colab": {
          "base_uri": "https://localhost:8080/"
        },
        "id": "yRjYm4CCllkH",
        "outputId": "13a297f1-65d3-4fe6-ea74-d6f02152cd79"
      },
      "execution_count": 76,
      "outputs": [
        {
          "output_type": "stream",
          "name": "stdout",
          "text": [
            "Imported Successfully!\n"
          ]
        }
      ]
    },
    {
      "cell_type": "code",
      "source": [
        "import gensim.downloader as api\n",
        "\n",
        "word_vectors = api.load('word2vec-google-news-300')"
      ],
      "metadata": {
        "colab": {
          "base_uri": "https://localhost:8080/"
        },
        "id": "3YLj7OuMluwt",
        "outputId": "0d427ab2-bf90-413a-d543-9bbfb87d1dab"
      },
      "execution_count": 77,
      "outputs": [
        {
          "output_type": "stream",
          "name": "stdout",
          "text": [
            "[==================================================] 100.0% 1662.8/1662.8MB downloaded\n"
          ]
        }
      ]
    },
    {
      "cell_type": "code",
      "source": [
        "'''\n",
        "  INPUT: k most similar words\n",
        "  OUTPUT: List with the similarity obtained for each word with the rest of \n",
        "          the word\n",
        "'''\n",
        "def calculateSimilaritiesLDA(KKeywordsLDA,numberOfWords):\n",
        "\n",
        "  similaraties = []\n",
        "\n",
        "  for k in range(len(KKeywordsLDA)):\n",
        "   \n",
        "    if(k==0):\n",
        "      for j in range(1,numberOfWords):\n",
        "        V1=  word_vectors[str(KKeywordsLDA[k])]\n",
        "        V2 = word_vectors[str(KKeywordsLDA[j])]\n",
        "        similaraties.append(cosine_similarity([V1],[V2])[0][0])\n",
        "    \n",
        "    elif(0 < k < numberOfWords-1):\n",
        "    \n",
        "      for j in range(0,k):\n",
        "        V1=  word_vectors[str(KKeywordsLDA[k])]\n",
        "        V2 = word_vectors[str(KKeywordsLDA[j])]\n",
        "        similaraties.append(cosine_similarity([V1],[V2])[0][0])\n",
        "   \n",
        "      for j in range(k+1,numberOfWords):\n",
        "        V1=  word_vectors[str(KKeywordsLDA[k])]\n",
        "        V2 = word_vectors[str(KKeywordsLDA[j])]\n",
        "        similaraties.append(cosine_similarity([V1],[V2])[0][0])\n",
        "   \n",
        "    elif(k == (numberOfWords-1)):\n",
        "      for j in range(0,numberOfWords-1):\n",
        "        V1=  word_vectors[str(KKeywordsLDA[k])]\n",
        "        V2 = word_vectors[str(KKeywordsLDA[j])]\n",
        "        similaraties.append(cosine_similarity([V1],[V2])[0][0])\n",
        "  \n",
        "\n",
        "  return similaraties"
      ],
      "metadata": {
        "id": "cRtPbnkAmEDq"
      },
      "execution_count": 78,
      "outputs": []
    },
    {
      "cell_type": "code",
      "source": [
        "similaraties = calculateSimilaritiesLDA(KKeywordsLDA,len(KKeywordsLDA))"
      ],
      "metadata": {
        "id": "tfFD5iilm6fX"
      },
      "execution_count": 79,
      "outputs": []
    },
    {
      "cell_type": "code",
      "source": [
        "print(f\"The average similarities is: {np.array(similaraties).mean()}\")"
      ],
      "metadata": {
        "colab": {
          "base_uri": "https://localhost:8080/"
        },
        "id": "i4aMdPjPm_qP",
        "outputId": "0f3d9e4d-7622-4723-9899-353e297fb839"
      },
      "execution_count": 80,
      "outputs": [
        {
          "output_type": "stream",
          "name": "stdout",
          "text": [
            "The average similarities is: 0.1015235185623169\n"
          ]
        }
      ]
    },
    {
      "cell_type": "markdown",
      "source": [
        "[**Return to index**](#index)"
      ],
      "metadata": {
        "id": "x6ZCWgwOnKOb"
      }
    }
  ]
}